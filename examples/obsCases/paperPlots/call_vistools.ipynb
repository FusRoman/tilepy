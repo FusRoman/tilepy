{
 "cells": [
  {
   "cell_type": "code",
   "execution_count": 20,
   "id": "8879b037-7d01-41b7-9e57-68488159878b",
   "metadata": {},
   "outputs": [],
   "source": [
    "from tilepy.tools.VisualizationTools import Pretty_Plot, LocateSource\n",
    "from tilepy.include.ObservationScheduler import getdate\n",
    "from astropy.coordinates import SkyCoord\n",
    "from astropy import units as u\n",
    "from tilepy.include.PointingTools import (LoadHealpixMap, LoadGalaxies, CorrelateGalaxies_LVC, ObservationParameters)\n",
    "import numpy as np\n"
   ]
  },
  {
   "attachments": {},
   "cell_type": "markdown",
   "id": "28e57160",
   "metadata": {},
   "source": [
    "Adjust the following as desired"
   ]
  },
  {
   "cell_type": "code",
   "execution_count": 21,
   "id": "c4230808",
   "metadata": {},
   "outputs": [],
   "source": [
    "#adjust the following as desired\n",
    "alertType = 'gw'\n",
    "configDir = '/Users/hashkar/Desktop/tilepy/examples/obsConfig/'\n",
    "datasetDir =  \"/Users/hashkar/Desktop/UniversalScheduler/dataset/\"\n",
    "outDir = '/Users/hashkar/Desktop/tilepy/examples/obsCases/paperPlots/'\n",
    "galcatName = \"converted_GLADE.h5\"\n",
    "pointingsFile = None\n",
    "locCut = 500"
   ]
  },
  {
   "attachments": {},
   "cell_type": "markdown",
   "id": "955ac857",
   "metadata": {},
   "source": [
    "Choose one"
   ]
  },
  {
   "cell_type": "code",
   "execution_count": 3,
   "id": "1bf5fe41",
   "metadata": {},
   "outputs": [],
   "source": [
    "url = 'https://dcc.ligo.org/public/0119/P1500071/007/927563_lalinference.fits.gz'\n",
    "obsTime = getdate(\"2023-03-15 20:51:47\")\n",
    "ObsArray = ['CTAN', 'CTAS']\n",
    "colors_list = ['blue', 'green']\n",
    "\n",
    "name = '927563_lalinference_CTAO'\n",
    "PointingsFile1 = '/Users/hashkar/Desktop/tilepy/examples/obsCases/927563_lalinference_PAPER/PGalinFoV_NObs/SuggestedPointings_GWOptimisation.txt'\n",
    "dirName = '/Users/hashkar/Desktop/tilepy/examples/obsCases/paperPlots'\n",
    "\n",
    "center = SkyCoord(195, 15, unit='deg', frame='icrs')\n",
    "radius = '20 deg'"
   ]
  },
  {
   "cell_type": "code",
   "execution_count": 31,
   "id": "10e2800e",
   "metadata": {},
   "outputs": [],
   "source": [
    "url = 'https://gracedb.ligo.org/api/superevents/S190814bv/files/LALInference.v1.fits.gz'\n",
    "obsTime = getdate(\"2023-09-15 01:30:10\")\n",
    "ObsArray = ['ESO', 'ESO2', 'LP','LPL', 'OHP', 'SA', 'HA']\n",
    "colors_list = ['k','grey','g','b','c','m','r']\n",
    "\n",
    "name = 'S190814bv_MWL'\n",
    "PointingsFile1 = '/Users/hashkar/Desktop/tilepy/examples/obsCases/S190814bv_PAPER/PGalinFoV_NObs/SuggestedPointings_GWOptimisation.txt'\n",
    "dirName = '/Users/hashkar/Desktop/tilepy/examples/obsCases/paperPlots'\n",
    "\n",
    "center = SkyCoord(12, -25, unit='deg', frame='icrs')\n",
    "radius = '5 deg'"
   ]
  },
  {
   "cell_type": "code",
   "execution_count": 15,
   "id": "45d15864",
   "metadata": {},
   "outputs": [],
   "source": [
    "url = 'https://heasarc.gsfc.nasa.gov/FTP/fermi/data/gbm/triggers/2023/bn231012231/quicklook/glg_healpix_all_bn231012231.fit'\n",
    "obsTime = getdate(\"2023-10-12 20:42:18\")\n",
    "ObsArray = ['LST1', 'LST2','LST3','LST4']\n",
    "colors_list = ['g','b','C4','cyan']\n",
    "\n",
    "name = 'GRB231012A_PWG'\n",
    "PointingsFile1 = '/Users/hashkar/Desktop/tilepy/examples/obsCases/bn231012231_PAPER/PGWinFoV_NObs/SuggestedPointings_GWOptimisation.txt'\n",
    "dirName = '/Users/hashkar/Desktop/tilepy/examples/obsCases/paperPlots'\n",
    "\n",
    "center = SkyCoord(30, 20, unit='deg', frame='icrs')\n",
    "radius = '20 deg'"
   ]
  },
  {
   "cell_type": "code",
   "execution_count": 23,
   "id": "24e4221e",
   "metadata": {},
   "outputs": [],
   "source": [
    "url = 'https://www.ioffe.ru/LEA/ShortGRBs_IPN/data/20120612T59382/GRB20120612_T59382_IPN_map_hpx.fits.gz'\n",
    "obsTime = getdate(\"2017-08-17 10:30:10\")\n",
    "ObsArray = ['ATCA']\n",
    "colors_list = ['k']\n",
    "\n",
    "name = 'IPN_PWG'\n",
    "PointingsFile1 = '/Users/hashkar/Desktop/tilepy/examples/obsCases/IPN_GRB20120612_PAPER/PGWinFoV_NObs/SuggestedPointings_GWOptimisation.txt'\n",
    "dirName = '/Users/hashkar/Desktop/tilepy/examples/obsCases/paperPlots'\n",
    "\n",
    "center = None\n",
    "radius = '3 deg'"
   ]
  },
  {
   "cell_type": "code",
   "execution_count": 24,
   "id": "91c7eb1e",
   "metadata": {},
   "outputs": [
    {
     "name": "stdout",
     "output_type": "stream",
     "text": [
      "===========================================================================================\n",
      "parameters ['/Users/hashkar/Desktop/tilepy/examples/obsConfig/FollowupParameters_ATCA.ini']\n"
     ]
    }
   ],
   "source": [
    "parameters = []\n",
    "obsparameters = []\n",
    "\n",
    "\n",
    "for i in ObsArray:\n",
    "    parameters.append(\"/Users/hashkar/Desktop/tilepy/examples/obsConfig/FollowupParameters_%s.ini\" % i)\n",
    "print(\"===========================================================================================\")\n",
    "print('parameters', parameters)\n",
    "obsparameters = []"
   ]
  },
  {
   "cell_type": "code",
   "execution_count": 25,
   "id": "85be930a",
   "metadata": {},
   "outputs": [
    {
     "name": "stdout",
     "output_type": "stream",
     "text": [
      "============== Main parsed observation parameters ==============  \n",
      "Observatory Name: ATCA\n",
      "Observatory: -30.31 deg\n",
      "Observatory: 149.55 deg\n",
      "Observatory: 237.0 m\n",
      "Max zenith: 60\n",
      "Using Greytime is: True\n",
      "FOV: 0.1\n",
      "Max runs: 50\n",
      "Duration: 10\n",
      "High Resolution NSIDE: 512\n",
      "Low Resolution NSIDE: 512\n",
      "The strategy is (2D, integrated, mangrove=False)\n",
      "The level of details is (doPlot=True, doRank = True)\n",
      "\n"
     ]
    }
   ],
   "source": [
    "for j in range(len(parameters)):\n",
    "    obspar = ObservationParameters()\n",
    "    obspar.add_parsed_args(url, obsTime, datasetDir, galcatName, outDir, pointingsFile, alertType, locCut)\n",
    "    obspar.from_configfile(parameters[j])\n",
    "    obsparameters.append(obspar)\n",
    "print(obspar)"
   ]
  },
  {
   "attachments": {},
   "cell_type": "markdown",
   "id": "3612e155",
   "metadata": {},
   "source": [
    "ONLY for 3D cases"
   ]
  },
  {
   "cell_type": "code",
   "execution_count": 11,
   "id": "aa929f64-da3a-4180-a159-8ea231e8ccbb",
   "metadata": {},
   "outputs": [
    {
     "name": "stdout",
     "output_type": "stream",
     "text": [
      "Loading galaxy catalogue from /Users/hashkar/Desktop/UniversalScheduler/dataset/converted_GLADE.h5\n",
      "Loading LVC HEALPix map from file: https://heasarc.gsfc.nasa.gov/FTP/fermi/data/gbm/triggers/2023/bn231012231/quicklook/glg_healpix_all_bn231012231.fit\n"
     ]
    },
    {
     "ename": "TypeError",
     "evalue": "only integer scalar arrays can be converted to a scalar index",
     "output_type": "error",
     "traceback": [
      "\u001b[0;31m---------------------------------------------------------------------------\u001b[0m",
      "\u001b[0;31mTypeError\u001b[0m                                 Traceback (most recent call last)",
      "Cell \u001b[0;32mIn[11], line 6\u001b[0m\n\u001b[1;32m      4\u001b[0m cat \u001b[39m=\u001b[39m LoadGalaxies(galaxies)\n\u001b[1;32m      5\u001b[0m prob, distmu, distsigma, distnorm, detectors, fits_id, thisDistance, thisDistanceErr \u001b[39m=\u001b[39m LoadHealpixMap(url)\n\u001b[0;32m----> 6\u001b[0m tGals0, sum_dP_dV \u001b[39m=\u001b[39m CorrelateGalaxies_LVC(prob, distmu, distsigma, distnorm, cat, \u001b[39mTrue\u001b[39;49;00m, obspar\u001b[39m.\u001b[39;49mminimumProbCutForCatalogue)\n",
      "File \u001b[0;32m~/anaconda3/envs/tilepy/lib/python3.11/site-packages/tilepy/include/PointingTools.py:1769\u001b[0m, in \u001b[0;36mCorrelateGalaxies_LVC\u001b[0;34m(prob, distmu, distsigma, distnorm, cat, Info3D_available, MinimumProbCutForCatalogue)\u001b[0m\n\u001b[1;32m   1766\u001b[0m pixarea \u001b[39m=\u001b[39m hp\u001b[39m.\u001b[39mnside2pixarea(nside)\n\u001b[1;32m   1768\u001b[0m \u001b[39mif\u001b[39;00m (Info3D_available):\n\u001b[0;32m-> 1769\u001b[0m     dp_dV \u001b[39m=\u001b[39m prob[ipix] \u001b[39m*\u001b[39m distnorm[ipix] \u001b[39m*\u001b[39m \\\n\u001b[1;32m   1770\u001b[0m         norm(distmu[ipix], distsigma[ipix])\u001b[39m.\u001b[39mpdf(dist) \u001b[39m/\u001b[39m pixarea\n\u001b[1;32m   1772\u001b[0m \u001b[39melse\u001b[39;00m:\n\u001b[1;32m   1773\u001b[0m     dp_dV \u001b[39m=\u001b[39m prob[ipix] \u001b[39m/\u001b[39m pixarea\n",
      "\u001b[0;31mTypeError\u001b[0m: only integer scalar arrays can be converted to a scalar index"
     ]
    }
   ],
   "source": [
    "galaxies = obspar.datasetDir + obspar.galcatName\n",
    "\n",
    "\n",
    "cat = LoadGalaxies(galaxies)\n",
    "prob, distmu, distsigma, distnorm, detectors, fits_id, thisDistance, thisDistanceErr = LoadHealpixMap(url)\n",
    "tGals0, sum_dP_dV = CorrelateGalaxies_LVC(prob, distmu, distsigma, distnorm, cat, True, obspar.minimumProbCutForCatalogue)\n"
   ]
  },
  {
   "attachments": {},
   "cell_type": "markdown",
   "id": "c724b145",
   "metadata": {},
   "source": [
    "ONLY for 2D cases"
   ]
  },
  {
   "cell_type": "code",
   "execution_count": 26,
   "id": "144a9907",
   "metadata": {},
   "outputs": [],
   "source": [
    "tGals0 = None"
   ]
  },
  {
   "cell_type": "code",
   "execution_count": 27,
   "id": "67b354da",
   "metadata": {},
   "outputs": [
    {
     "name": "stdout",
     "output_type": "stream",
     "text": [
      "NO GALAXIES GIVEN TO PLOT 1\n",
      "NO GALAXIESW GIVEN TO PLOT 2\n"
     ]
    }
   ],
   "source": [
    "Pretty_Plot(url, name, PointingsFile1, dirName, obspar, tGals0, center, radius, colors_list)\n",
    "\n"
   ]
  },
  {
   "attachments": {},
   "cell_type": "markdown",
   "id": "63ea2996",
   "metadata": {},
   "source": []
  }
 ],
 "metadata": {
  "kernelspec": {
   "display_name": "Python 3.9.0 ('tilepyenv_1')",
   "language": "python",
   "name": "python3"
  },
  "language_info": {
   "codemirror_mode": {
    "name": "ipython",
    "version": 3
   },
   "file_extension": ".py",
   "mimetype": "text/x-python",
   "name": "python",
   "nbconvert_exporter": "python",
   "pygments_lexer": "ipython3",
   "version": "3.11.9"
  },
  "vscode": {
   "interpreter": {
    "hash": "27b68d8d765e3bcc7497bdaa8796e67fcbf6255f91f21a56387fb4d1cc5ead39"
   }
  }
 },
 "nbformat": 4,
 "nbformat_minor": 5
}
