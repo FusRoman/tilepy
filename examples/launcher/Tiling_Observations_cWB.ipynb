{
 "cells": [
  {
   "cell_type": "code",
   "execution_count": 1,
   "id": "cfb68f4e-6d80-4b7c-b7b3-85ef3ebd82d7",
   "metadata": {},
   "outputs": [
    {
     "name": "stderr",
     "output_type": "stream",
     "text": [
      "/Users/md274436/software/miniforge3/envs/tilepy/lib/python3.11/site-packages/ligo/lw/lsctables.py:89: UserWarning: Wswiglal-redir-stdio:\n",
      "\n",
      "SWIGLAL standard output/error redirection is enabled in IPython.\n",
      "This may lead to performance penalties. To disable locally, use:\n",
      "\n",
      "with lal.no_swig_redirect_standard_output_error():\n",
      "    ...\n",
      "\n",
      "To disable globally, use:\n",
      "\n",
      "lal.swig_redirect_standard_output_error(False)\n",
      "\n",
      "Note however that this will likely lead to error messages from\n",
      "LAL functions being either misdirected or lost when called from\n",
      "Jupyter notebooks.\n",
      "\n",
      "To suppress this warning, use:\n",
      "\n",
      "import warnings\n",
      "warnings.filterwarnings(\"ignore\", \"Wswiglal-redir-stdio\")\n",
      "import lal\n",
      "\n",
      "  import lal\n",
      "/Users/md274436/software/miniforge3/envs/tilepy/lib/python3.11/site-packages/tqdm/auto.py:21: TqdmWarning: IProgress not found. Please update jupyter and ipywidgets. See https://ipywidgets.readthedocs.io/en/stable/user_install.html\n",
      "  from .autonotebook import tqdm as notebook_tqdm\n"
     ]
    }
   ],
   "source": [
    "from tilepy.include.ObservationScheduler import GetSchedule\n",
    "from tilepy.include.PointingTools import getdate, ObservationParameters, NextWindowTools\n",
    "import time\n",
    "import argparse\n",
    "import os\n"
   ]
  },
  {
   "cell_type": "code",
   "execution_count": 2,
   "id": "8879b037-7d01-41b7-9e57-68488159878b",
   "metadata": {},
   "outputs": [],
   "source": [
    "# Type of followup, options: gbm, gbmpng, nucascade, gw\n",
    "alertType = 'gw'\n",
    "\n",
    "# The url to the FITS file with the sky localization, e.g.for GW https://urlpath/Bayestar.fits.gz'\n",
    "#skymap = 'https://gracedb.ligo.org/api/superevents/S240624cd/files/cwb.multiorder.fits,1'\n",
    "skymap = 'https://gracedb.ligo.org/api/superevents/S240904bv/files/cwb.multiorder.fits,0'\n",
    "\n",
    "# Date and time of the event in format YYYY-MM-DD HH:MM:SS. You can use 2023-07-15 14:30:10 for the example .fits file\n",
    "#obsTime = getdate(\"2023-12-06  23:39:01\")\n",
    "#obsTime = getdate(\"2024-04-13  02:33:01\")\n",
    "obsTime = getdate(\"2023-06-10 14:51:47\")\n",
    "\n",
    "# Path to the input datasets (where galaxy cat should be for GW case)\n",
    "datasetDir = '../../tilepy/dataset/'\n",
    "\n",
    "# Path to the output folder\n",
    "outDir = './output'\n",
    "\n",
    "# Config file for the tiling scheduling\n",
    "# NOTE: to have a scheduler for the CWB case, you need to have a config with low cuts on the probability per pointing\n",
    "cfgFile = '../config/FollowupParameters_CTAON.ini'\n",
    "\n",
    "# Tiles already observed\n",
    "pointingsFile = None\n",
    "\n",
    "# Limit on skyloc to perform a followup\n",
    "locCut = None"
   ]
  },
  {
   "cell_type": "code",
   "execution_count": 3,
   "id": "2ed6a64c-f98c-4c2d-9edf-cd1d38360f5e",
   "metadata": {},
   "outputs": [],
   "source": [
    "# Create forder for output\n",
    "if not os.path.exists(outDir):\n",
    "    os.makedirs(outDir)"
   ]
  },
  {
   "cell_type": "code",
   "execution_count": 4,
   "id": "3a0d2a96-9e20-4688-b14a-6f425af2dd0f",
   "metadata": {},
   "outputs": [],
   "source": [
    "#Parse the parameters \n",
    "obspar = ObservationParameters()\n",
    "obspar.add_parsed_args(skymap,obsTime,datasetDir,None,outDir,pointingsFile,alertType,locCut)\n",
    "obspar.from_configfile(cfgFile)"
   ]
  },
  {
   "cell_type": "code",
   "execution_count": 6,
   "id": "9fd228c9-9758-4397-8841-7af1f50d6bb1",
   "metadata": {},
   "outputs": [
    {
     "name": "stdout",
     "output_type": "stream",
     "text": [
      "===========================================================================================\n",
      "===========================================================================================\n",
      "Starting the 2D pointing calculation with the following parameters\n",
      "\n",
      "Filename:  G508457\n",
      "Date:  2023-06-10 14:51:47\n",
      "Previous pointings:  None\n",
      "Dataset:  ../../tilepy/dataset/\n",
      "Output:  ./output/G508457\n",
      "===========================================================================================\n",
      "\n",
      "============== Main parsed observation parameters ==============  \n",
      "Observatory Name: CTAO-N\n",
      "Observatory: 28.75 deg\n",
      "Observatory: -17.5 deg\n",
      "Observatory: 2200.0 m\n",
      "Max zenith: 70\n",
      "Using Greytime is: False\n",
      "FOV: 2.0\n",
      "Max runs: 20\n",
      "Duration: 15\n",
      "High Resolution NSIDE: 512\n",
      "Low Resolution NSIDE: 128\n",
      "The strategy is (3D, integrated, mangrove=False)\n",
      "The level of details is (doPlot=True, doRank = True)\n",
      "\n",
      "\n",
      "-------------------   NEW EVENT   --------------------\n",
      "\n",
      "----------   NEW FOLLOW-UP ATTEMPT   ----------\n",
      "\n",
      "Total GW probability covered:  0.0 Number of runs that fulfill darkness condition  : 16 Number of effective pointings:  0\n",
      "\n",
      "================================= Tiling found =============================================\n",
      "Time[UTC] RA[deg] DEC[deg] PGW Round ObsName Duration FoV\n",
      "--------- ------- -------- --- ----- ------- -------- ---\n",
      "===========================================================================================\n",
      "\n",
      "The total probability PGW:  0.0\n",
      "No observations are scheduled\n"
     ]
    }
   ],
   "source": [
    "# Run the scheduler\n",
    "GetSchedule(obspar)"
   ]
  },
  {
   "cell_type": "code",
   "execution_count": null,
   "id": "12d5bc16",
   "metadata": {},
   "outputs": [],
   "source": []
  }
 ],
 "metadata": {
  "kernelspec": {
   "display_name": "Python 3 (ipykernel)",
   "language": "python",
   "name": "python3"
  },
  "language_info": {
   "codemirror_mode": {
    "name": "ipython",
    "version": 3
   },
   "file_extension": ".py",
   "mimetype": "text/x-python",
   "name": "python",
   "nbconvert_exporter": "python",
   "pygments_lexer": "ipython3",
   "version": "3.11.10"
  },
  "vscode": {
   "interpreter": {
    "hash": "27b68d8d765e3bcc7497bdaa8796e67fcbf6255f91f21a56387fb4d1cc5ead39"
   }
  }
 },
 "nbformat": 4,
 "nbformat_minor": 5
}
