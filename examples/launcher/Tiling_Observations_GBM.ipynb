{
 "cells": [
  {
   "cell_type": "code",
   "execution_count": 1,
   "metadata": {},
   "outputs": [
    {
     "name": "stderr",
     "output_type": "stream",
     "text": [
      "/Users/md274436/software/miniforge3/envs/tilepy/lib/python3.11/site-packages/ligo/lw/lsctables.py:89: UserWarning: Wswiglal-redir-stdio:\n",
      "\n",
      "SWIGLAL standard output/error redirection is enabled in IPython.\n",
      "This may lead to performance penalties. To disable locally, use:\n",
      "\n",
      "with lal.no_swig_redirect_standard_output_error():\n",
      "    ...\n",
      "\n",
      "To disable globally, use:\n",
      "\n",
      "lal.swig_redirect_standard_output_error(False)\n",
      "\n",
      "Note however that this will likely lead to error messages from\n",
      "LAL functions being either misdirected or lost when called from\n",
      "Jupyter notebooks.\n",
      "\n",
      "To suppress this warning, use:\n",
      "\n",
      "import warnings\n",
      "warnings.filterwarnings(\"ignore\", \"Wswiglal-redir-stdio\")\n",
      "import lal\n",
      "\n",
      "  import lal\n",
      "/Users/md274436/software/miniforge3/envs/tilepy/lib/python3.11/site-packages/tqdm/auto.py:21: TqdmWarning: IProgress not found. Please update jupyter and ipywidgets. See https://ipywidgets.readthedocs.io/en/stable/user_install.html\n",
      "  from .autonotebook import tqdm as notebook_tqdm\n"
     ]
    }
   ],
   "source": [
    "# Import main packages \n",
    "from tilepy.include.ObservationScheduler import GetSchedule\n",
    "from tilepy.include.PointingTools import ObservationParameters, NextWindowTools, getdate\n",
    "import time\n",
    "import argparse\n",
    "import os\n",
    "from pathlib import Path"
   ]
  },
  {
   "cell_type": "code",
   "execution_count": 2,
   "metadata": {},
   "outputs": [],
   "source": [
    "from IPython.core.interactiveshell import InteractiveShell\n",
    "InteractiveShell.ast_node_interactivity = \"all\""
   ]
  },
  {
   "cell_type": "markdown",
   "metadata": {},
   "source": [
    "### Set of inputs needed to run the code"
   ]
  },
  {
   "cell_type": "code",
   "execution_count": 3,
   "metadata": {},
   "outputs": [],
   "source": [
    "# Type of followup, options: gbm, gbmpng or gw\n",
    "alertType = 'gbm'\n",
    "\n",
    "# The url to the FITS file with the sky localization in a healpix format (fits file with name starting by glg_healpix\n",
    "skymap = 'https://heasarc.gsfc.nasa.gov/FTP/fermi/data/gbm/triggers/2024/bn240612503/current/glg_healpix_all_bn240612503_v00.fit'\n",
    "\n",
    "# Date and time of the event in format YYYY-MM-DD HH:MM:SS. You can use 2023-07-15 14:30:10 for the example .fits file\n",
    "#obsTime = getdate(\"2023-12-06  23:39:01\")\n",
    "#obsTime = getdate(\"2024-04-13  02:33:01\")\n",
    "obsTime = getdate(\"2023-06-10 14:51:47\")\n",
    "\n",
    "# Path to the input datasets (where galaxy cat should be for GW case)\n",
    "datasetDir = '../../tilepy/dataset/'\n",
    "\n",
    "# Path to the output folder\n",
    "outDir = './output'\n",
    "\n",
    "# Config file for the tiling scheduling\n",
    "cfgFile = '../config/FollowupParameters_CTAOS.ini'\n",
    "\n",
    "# Tiles already observed\n",
    "pointingsFile = None\n",
    "\n",
    "# Limit on skyloc to perform a followup\n",
    "locCut = None"
   ]
  },
  {
   "cell_type": "code",
   "execution_count": 4,
   "metadata": {},
   "outputs": [],
   "source": [
    "# Create forder for output\n",
    "if not os.path.exists(outDir):\n",
    "    os.makedirs(outDir)"
   ]
  },
  {
   "cell_type": "code",
   "execution_count": 5,
   "metadata": {},
   "outputs": [],
   "source": [
    "#Parse the parameters \n",
    "obspar = ObservationParameters()\n",
    "obspar.add_parsed_args(skymap,obsTime,datasetDir,None,outDir,pointingsFile,alertType,locCut)\n",
    "obspar.from_configfile(cfgFile)"
   ]
  },
  {
   "cell_type": "markdown",
   "metadata": {},
   "source": [
    "### Run the scheduling"
   ]
  },
  {
   "cell_type": "code",
   "execution_count": 6,
   "metadata": {},
   "outputs": [
    {
     "name": "stderr",
     "output_type": "stream",
     "text": [
      "The file is already existing, it will be re-downloaded\n"
     ]
    },
    {
     "ename": "NameError",
     "evalue": "name 'mh' is not defined",
     "output_type": "error",
     "traceback": [
      "\u001b[0;31m---------------------------------------------------------------------------\u001b[0m",
      "\u001b[0;31mNameError\u001b[0m                                 Traceback (most recent call last)",
      "Cell \u001b[0;32mIn[6], line 1\u001b[0m\n\u001b[0;32m----> 1\u001b[0m \u001b[43mGetSchedule\u001b[49m\u001b[43m(\u001b[49m\u001b[43mobspar\u001b[49m\u001b[43m)\u001b[49m\n",
      "File \u001b[0;32m~/post_doc_cea/GW/tilepy_test/tilepy/include/ObservationScheduler.py:46\u001b[0m, in \u001b[0;36mGetSchedule\u001b[0;34m(obspar)\u001b[0m\n\u001b[1;32m     37\u001b[0m \u001b[38;5;250m\u001b[39m\u001b[38;5;124;03m\"\"\"\u001b[39;00m\n\u001b[1;32m     38\u001b[0m \u001b[38;5;124;03mTop level function that is called by the user with specific arguments and creates a folder \u001b[39;00m\n\u001b[1;32m     39\u001b[0m \u001b[38;5;124;03mwith the tiling schedules for a single telescope and visibility plots.  \u001b[39;00m\n\u001b[0;32m   (...)\u001b[0m\n\u001b[1;32m     42\u001b[0m \u001b[38;5;124;03m:type obspar: class ObservationParameters\u001b[39;00m\n\u001b[1;32m     43\u001b[0m \u001b[38;5;124;03m\"\"\"\u001b[39;00m\n\u001b[1;32m     45\u001b[0m raw_map \u001b[38;5;241m=\u001b[39m MapReader(obspar)\n\u001b[0;32m---> 46\u001b[0m skymap \u001b[38;5;241m=\u001b[39m \u001b[43mSkyMap\u001b[49m\u001b[43m(\u001b[49m\u001b[43mobspar\u001b[49m\u001b[43m,\u001b[49m\u001b[43m \u001b[49m\u001b[43mraw_map\u001b[49m\u001b[43m)\u001b[49m\n\u001b[1;32m     48\u001b[0m \u001b[38;5;28;01mif\u001b[39;00m obspar\u001b[38;5;241m.\u001b[39mlocCut \u001b[38;5;241m!=\u001b[39m \u001b[38;5;28;01mNone\u001b[39;00m:\n\u001b[1;32m     49\u001b[0m     area_50 \u001b[38;5;241m=\u001b[39m skymap\u001b[38;5;241m.\u001b[39mgetArea(\u001b[38;5;241m0.5\u001b[39m)\u001b[38;5;241m.\u001b[39mto_value(u\u001b[38;5;241m.\u001b[39mdeg)\n",
      "File \u001b[0;32m~/post_doc_cea/GW/tilepy_test/tilepy/include/MapManagement/SkyMap.py:28\u001b[0m, in \u001b[0;36mSkyMap.__init__\u001b[0;34m(self, obspar, mapReader)\u001b[0m\n\u001b[1;32m     27\u001b[0m \u001b[38;5;28;01mdef\u001b[39;00m \u001b[38;5;21m__init__\u001b[39m(\u001b[38;5;28mself\u001b[39m, obspar, mapReader):\n\u001b[0;32m---> 28\u001b[0m     \u001b[38;5;28mself\u001b[39m\u001b[38;5;241m.\u001b[39mraw_map_prob_density \u001b[38;5;241m=\u001b[39m \u001b[43mmapReader\u001b[49m\u001b[38;5;241;43m.\u001b[39;49m\u001b[43mgetMap\u001b[49m\u001b[43m(\u001b[49m\u001b[38;5;124;43m'\u001b[39;49m\u001b[38;5;124;43mprob\u001b[39;49m\u001b[38;5;124;43m'\u001b[39;49m\u001b[43m)\u001b[49m\n\u001b[1;32m     29\u001b[0m     \u001b[38;5;28mself\u001b[39m\u001b[38;5;241m.\u001b[39mis3D \u001b[38;5;241m=\u001b[39m \u001b[38;5;28mself\u001b[39m\u001b[38;5;241m.\u001b[39mdetermine3D(obspar, mapReader)\n\u001b[1;32m     31\u001b[0m     \u001b[38;5;28;01mif\u001b[39;00m obspar\u001b[38;5;241m.\u001b[39mis3D:\n",
      "File \u001b[0;32m~/post_doc_cea/GW/tilepy_test/tilepy/include/MapManagement/MapReader.py:206\u001b[0m, in \u001b[0;36mMapReader.getMap\u001b[0;34m(self, mapType)\u001b[0m\n\u001b[1;32m    204\u001b[0m \u001b[38;5;28;01mdef\u001b[39;00m \u001b[38;5;21mgetMap\u001b[39m(\u001b[38;5;28mself\u001b[39m, mapType):\n\u001b[1;32m    205\u001b[0m     \u001b[38;5;28;01mif\u001b[39;00m mapType \u001b[38;5;241m==\u001b[39m \u001b[38;5;124m'\u001b[39m\u001b[38;5;124mprob\u001b[39m\u001b[38;5;124m'\u001b[39m:\n\u001b[0;32m--> 206\u001b[0m         raw_map \u001b[38;5;241m=\u001b[39m \u001b[43mmh\u001b[49m\u001b[38;5;241m.\u001b[39mHealpixMap\u001b[38;5;241m.\u001b[39mread_map(\u001b[38;5;28mself\u001b[39m\u001b[38;5;241m.\u001b[39mskymap_filename, field\u001b[38;5;241m=\u001b[39m\u001b[38;5;28mself\u001b[39m\u001b[38;5;241m.\u001b[39mid_prob, hdu\u001b[38;5;241m=\u001b[39m\u001b[38;5;28mself\u001b[39m\u001b[38;5;241m.\u001b[39mid_hdu_map, density\u001b[38;5;241m=\u001b[39m\u001b[38;5;28;01mTrue\u001b[39;00m)\n\u001b[1;32m    207\u001b[0m         \u001b[38;5;28;01mif\u001b[39;00m \u001b[38;5;129;01mnot\u001b[39;00m \u001b[38;5;28mself\u001b[39m\u001b[38;5;241m.\u001b[39mprob_density:\n\u001b[1;32m    208\u001b[0m             raw_map\u001b[38;5;241m.\u001b[39mdata \u001b[38;5;241m=\u001b[39m (raw_map\u001b[38;5;241m.\u001b[39mdata \u001b[38;5;241m*\u001b[39m \u001b[38;5;28mself\u001b[39m\u001b[38;5;241m.\u001b[39munit_prob \u001b[38;5;241m/\u001b[39m raw_map\u001b[38;5;241m.\u001b[39mpixarea())\u001b[38;5;241m.\u001b[39mto_value(u\u001b[38;5;241m.\u001b[39mUnit(\u001b[38;5;124m'\u001b[39m\u001b[38;5;124msr^-1\u001b[39m\u001b[38;5;124m'\u001b[39m))\n",
      "\u001b[0;31mNameError\u001b[0m: name 'mh' is not defined"
     ]
    }
   ],
   "source": [
    "GetSchedule(obspar)"
   ]
  },
  {
   "cell_type": "code",
   "execution_count": null,
   "metadata": {},
   "outputs": [],
   "source": []
  }
 ],
 "metadata": {
  "kernelspec": {
   "display_name": "Python 3 (ipykernel)",
   "language": "python",
   "name": "python3"
  },
  "language_info": {
   "codemirror_mode": {
    "name": "ipython",
    "version": 3
   },
   "file_extension": ".py",
   "mimetype": "text/x-python",
   "name": "python",
   "nbconvert_exporter": "python",
   "pygments_lexer": "ipython3",
   "version": "3.11.10"
  },
  "vscode": {
   "interpreter": {
    "hash": "27b68d8d765e3bcc7497bdaa8796e67fcbf6255f91f21a56387fb4d1cc5ead39"
   }
  }
 },
 "nbformat": 4,
 "nbformat_minor": 4
}
