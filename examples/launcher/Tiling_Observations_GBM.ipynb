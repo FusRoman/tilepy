{
 "cells": [
  {
   "cell_type": "code",
   "execution_count": 1,
   "metadata": {},
   "outputs": [
    {
     "name": "stderr",
     "output_type": "stream",
     "text": [
      "/Users/md274436/software/miniforge3/envs/tilepy/lib/python3.11/site-packages/ligo/lw/lsctables.py:89: UserWarning: Wswiglal-redir-stdio:\n",
      "\n",
      "SWIGLAL standard output/error redirection is enabled in IPython.\n",
      "This may lead to performance penalties. To disable locally, use:\n",
      "\n",
      "with lal.no_swig_redirect_standard_output_error():\n",
      "    ...\n",
      "\n",
      "To disable globally, use:\n",
      "\n",
      "lal.swig_redirect_standard_output_error(False)\n",
      "\n",
      "Note however that this will likely lead to error messages from\n",
      "LAL functions being either misdirected or lost when called from\n",
      "Jupyter notebooks.\n",
      "\n",
      "To suppress this warning, use:\n",
      "\n",
      "import warnings\n",
      "warnings.filterwarnings(\"ignore\", \"Wswiglal-redir-stdio\")\n",
      "import lal\n",
      "\n",
      "  import lal\n",
      "/Users/md274436/software/miniforge3/envs/tilepy/lib/python3.11/site-packages/tqdm/auto.py:21: TqdmWarning: IProgress not found. Please update jupyter and ipywidgets. See https://ipywidgets.readthedocs.io/en/stable/user_install.html\n",
      "  from .autonotebook import tqdm as notebook_tqdm\n"
     ]
    }
   ],
   "source": [
    "# Import main packages \n",
    "from tilepy.include.ObservationScheduler import GetSchedule\n",
    "from tilepy.include.PointingTools import ObservationParameters, NextWindowTools, getdate\n",
    "import time\n",
    "import argparse\n",
    "import os\n",
    "from pathlib import Path"
   ]
  },
  {
   "cell_type": "code",
   "execution_count": 2,
   "metadata": {},
   "outputs": [],
   "source": [
    "from IPython.core.interactiveshell import InteractiveShell\n",
    "InteractiveShell.ast_node_interactivity = \"all\""
   ]
  },
  {
   "cell_type": "markdown",
   "metadata": {},
   "source": [
    "### Set of inputs needed to run the code"
   ]
  },
  {
   "cell_type": "code",
   "execution_count": 3,
   "metadata": {},
   "outputs": [],
   "source": [
    "# Type of followup, options: gbm, gbmpng or gw\n",
    "alertType = 'gbm'\n",
    "\n",
    "# The url to the FITS file with the sky localization in a healpix format (fits file with name starting by glg_healpix\n",
    "skymap = 'https://heasarc.gsfc.nasa.gov/FTP/fermi/data/gbm/triggers/2024/bn240612503/current/glg_healpix_all_bn240612503_v00.fit'\n",
    "\n",
    "# Date and time of the event in format YYYY-MM-DD HH:MM:SS. You can use 2023-07-15 14:30:10 for the example .fits file\n",
    "#obsTime = getdate(\"2023-12-06  23:39:01\")\n",
    "#obsTime = getdate(\"2024-04-13  02:33:01\")\n",
    "obsTime = getdate(\"2023-06-10 14:51:47\")\n",
    "\n",
    "# Path to the input datasets (where galaxy cat should be for GW case)\n",
    "datasetDir = '../../tilepy/dataset/'\n",
    "\n",
    "# Path to the output folder\n",
    "outDir = './output'\n",
    "\n",
    "# Config file for the tiling scheduling\n",
    "cfgFile = '../config/FollowupParameters_CTAOS.ini'\n",
    "\n",
    "# Tiles already observed\n",
    "pointingsFile = None\n",
    "\n",
    "# Limit on skyloc to perform a followup\n",
    "locCut = None"
   ]
  },
  {
   "cell_type": "code",
   "execution_count": 4,
   "metadata": {},
   "outputs": [],
   "source": [
    "# Create forder for output\n",
    "if not os.path.exists(outDir):\n",
    "    os.makedirs(outDir)"
   ]
  },
  {
   "cell_type": "code",
   "execution_count": 5,
   "metadata": {},
   "outputs": [],
   "source": [
    "#Parse the parameters \n",
    "obspar = ObservationParameters()\n",
    "obspar.add_parsed_args(skymap,obsTime,datasetDir,None,outDir,pointingsFile,alertType,locCut)\n",
    "obspar.from_configfile(cfgFile)"
   ]
  },
  {
   "cell_type": "markdown",
   "metadata": {},
   "source": [
    "### Run the scheduling"
   ]
  },
  {
   "cell_type": "code",
   "execution_count": 6,
   "metadata": {},
   "outputs": [
    {
     "name": "stderr",
     "output_type": "stream",
     "text": [
      "The file is already existing, it will be re-downloaded\n"
     ]
    },
    {
     "name": "stdout",
     "output_type": "stream",
     "text": [
      "===========================================================================================\n",
      "===========================================================================================\n",
      "Starting the 2D pointing calculation with the following parameters\n",
      "\n",
      "Filename:  GRB240612503\n",
      "Date:  2023-06-10 14:51:47\n",
      "Previous pointings:  None\n",
      "Dataset:  ../../tilepy/dataset/\n",
      "Output:  ./output/GRB240612503\n",
      "===========================================================================================\n",
      "\n",
      "============== Main parsed observation parameters ==============  \n",
      "Observatory Name: CTAO-S\n",
      "Observatory: -24.5 deg\n",
      "Observatory: -70.17 deg\n",
      "Observatory: 2635.0 m\n",
      "Max zenith: 60\n",
      "Using Greytime is: True\n",
      "FOV: 4.0\n",
      "Max runs: 20\n",
      "Duration: 20\n",
      "High Resolution NSIDE: 512\n",
      "Low Resolution NSIDE: 128\n",
      "The strategy is (3D, integrated, mangrove=False)\n",
      "The level of details is (doPlot=True, doRank = True)\n",
      "\n",
      "\n",
      "-------------------   NEW EVENT   --------------------\n",
      "\n"
     ]
    },
    {
     "ename": "TypeError",
     "evalue": "ufunc '_pix2ang_ring' not supported for the input types, and the inputs could not be safely coerced to any supported types according to the casting rule ''safe''",
     "output_type": "error",
     "traceback": [
      "\u001b[0;31m---------------------------------------------------------------------------\u001b[0m",
      "\u001b[0;31mTypeError\u001b[0m                                 Traceback (most recent call last)",
      "Cell \u001b[0;32mIn[6], line 1\u001b[0m\n\u001b[0;32m----> 1\u001b[0m \u001b[43mGetSchedule\u001b[49m\u001b[43m(\u001b[49m\u001b[43mobspar\u001b[49m\u001b[43m)\u001b[49m\n",
      "File \u001b[0;32m~/post_doc_cea/GW/tilepy_test/tilepy/include/ObservationScheduler.py:110\u001b[0m, in \u001b[0;36mGetSchedule\u001b[0;34m(obspar)\u001b[0m\n\u001b[1;32m    107\u001b[0m \u001b[38;5;28mprint\u001b[39m(\u001b[38;5;124m\"\u001b[39m\u001b[38;5;124m===========================================================================================\u001b[39m\u001b[38;5;124m\"\u001b[39m)\n\u001b[1;32m    108\u001b[0m \u001b[38;5;28mprint\u001b[39m()\n\u001b[0;32m--> 110\u001b[0m SuggestedPointings, t0 \u001b[38;5;241m=\u001b[39m \u001b[43mPGWinFoV\u001b[49m\u001b[43m(\u001b[49m\u001b[43mskymap\u001b[49m\u001b[43m,\u001b[49m\u001b[43m \u001b[49m\u001b[43mraw_map\u001b[49m\u001b[38;5;241;43m.\u001b[39;49m\u001b[43mname_event\u001b[49m\u001b[43m,\u001b[49m\u001b[43m \u001b[49m\u001b[43mobspar\u001b[49m\u001b[43m,\u001b[49m\u001b[43m \u001b[49m\u001b[43mdirName\u001b[49m\u001b[43m)\u001b[49m\n\u001b[1;32m    112\u001b[0m \u001b[38;5;28;01mif\u001b[39;00m (\u001b[38;5;28mlen\u001b[39m(SuggestedPointings) \u001b[38;5;241m!=\u001b[39m \u001b[38;5;241m0\u001b[39m):\n\u001b[1;32m    113\u001b[0m     gal \u001b[38;5;241m=\u001b[39m []\n",
      "File \u001b[0;32m~/post_doc_cea/GW/tilepy_test/tilepy/include/TilingDetermination.py:105\u001b[0m, in \u001b[0;36mPGWinFoV\u001b[0;34m(skymap, eventName, obspar, dirName)\u001b[0m\n\u001b[1;32m    102\u001b[0m highres \u001b[38;5;241m=\u001b[39m skymap\u001b[38;5;241m.\u001b[39mgetMap(\u001b[38;5;124m'\u001b[39m\u001b[38;5;124mprob\u001b[39m\u001b[38;5;124m'\u001b[39m, obspar\u001b[38;5;241m.\u001b[39mHRnside)\n\u001b[1;32m    104\u001b[0m \u001b[38;5;66;03m# Create table for 2D probability at 90% containment\u001b[39;00m\n\u001b[0;32m--> 105\u001b[0m rapix, decpix, areapix \u001b[38;5;241m=\u001b[39m \u001b[43mGet90RegionPixReduced\u001b[49m\u001b[43m(\u001b[49m\n\u001b[1;32m    106\u001b[0m \u001b[43m    \u001b[49m\u001b[43mprob\u001b[49m\u001b[43m,\u001b[49m\u001b[43m \u001b[49m\u001b[43mobspar\u001b[49m\u001b[38;5;241;43m.\u001b[39;49m\u001b[43mpercentageMOC\u001b[49m\u001b[43m,\u001b[49m\u001b[43m \u001b[49m\u001b[43mobspar\u001b[49m\u001b[38;5;241;43m.\u001b[39;49m\u001b[43mreducedNside\u001b[49m\u001b[43m)\u001b[49m\n\u001b[1;32m    107\u001b[0m radecs \u001b[38;5;241m=\u001b[39m co\u001b[38;5;241m.\u001b[39mSkyCoord(rapix, decpix, frame\u001b[38;5;241m=\u001b[39m\u001b[38;5;124m'\u001b[39m\u001b[38;5;124micrs\u001b[39m\u001b[38;5;124m'\u001b[39m, unit\u001b[38;5;241m=\u001b[39m(u\u001b[38;5;241m.\u001b[39mdeg, u\u001b[38;5;241m.\u001b[39mdeg))\n\u001b[1;32m    109\u001b[0m \u001b[38;5;66;03m# Add observed pixels to pixlist\u001b[39;00m\n",
      "File \u001b[0;32m~/post_doc_cea/GW/tilepy_test/tilepy/include/PointingTools.py:1802\u001b[0m, in \u001b[0;36mGet90RegionPixReduced\u001b[0;34m(hpxx, percentage, Nnside)\u001b[0m\n\u001b[1;32m   1799\u001b[0m     table_ipix_contour\u001b[38;5;241m.\u001b[39mappend(ipix_contour)\n\u001b[1;32m   1800\u001b[0m \u001b[38;5;66;03m# area = len(table_ipix_contour)*hp.nside2pixarea(nside, True)\u001b[39;00m\n\u001b[1;32m   1801\u001b[0m \u001b[38;5;66;03m# from index to polar coordinates\u001b[39;00m\n\u001b[0;32m-> 1802\u001b[0m theta1, phi1 \u001b[38;5;241m=\u001b[39m \u001b[43mhp\u001b[49m\u001b[38;5;241;43m.\u001b[39;49m\u001b[43mpix2ang\u001b[49m\u001b[43m(\u001b[49m\u001b[43mnside\u001b[49m\u001b[43m,\u001b[49m\u001b[43m \u001b[49m\u001b[43mtable_ipix_contour\u001b[49m\u001b[43m)\u001b[49m\n\u001b[1;32m   1803\u001b[0m area \u001b[38;5;241m=\u001b[39m \u001b[38;5;28mlen\u001b[39m(table_ipix_contour)\u001b[38;5;241m*\u001b[39mhp\u001b[38;5;241m.\u001b[39mnside2pixarea(nside, \u001b[38;5;28;01mTrue\u001b[39;00m)\n\u001b[1;32m   1805\u001b[0m \u001b[38;5;66;03m# creating an astropy.table with RA[deg] and DEC[deg] ipix positions\u001b[39;00m\n\u001b[1;32m   1806\u001b[0m \u001b[38;5;66;03m# contour_ipix = Table([ra, dec], names=('RA[deg]', 'DEC[deg]'), meta={'ipix': 'ipix table'})\u001b[39;00m\n\u001b[1;32m   1807\u001b[0m \n\u001b[1;32m   1808\u001b[0m \u001b[38;5;66;03m# reducing resolution to et a faser execution\u001b[39;00m\n\u001b[1;32m   1809\u001b[0m \u001b[38;5;66;03m# list of pixel indices in the new map\u001b[39;00m\n",
      "File \u001b[0;32m~/software/miniforge3/envs/tilepy/lib/python3.11/site-packages/healpy/pixelfunc.py:529\u001b[0m, in \u001b[0;36mpix2ang\u001b[0;34m(nside, ipix, nest, lonlat)\u001b[0m\n\u001b[1;32m    527\u001b[0m     theta, phi \u001b[38;5;241m=\u001b[39m pixlib\u001b[38;5;241m.\u001b[39m_pix2ang_nest(nside, ipix)\n\u001b[1;32m    528\u001b[0m \u001b[38;5;28;01melse\u001b[39;00m:\n\u001b[0;32m--> 529\u001b[0m     theta, phi \u001b[38;5;241m=\u001b[39m \u001b[43mpixlib\u001b[49m\u001b[38;5;241;43m.\u001b[39;49m\u001b[43m_pix2ang_ring\u001b[49m\u001b[43m(\u001b[49m\u001b[43mnside\u001b[49m\u001b[43m,\u001b[49m\u001b[43m \u001b[49m\u001b[43mipix\u001b[49m\u001b[43m)\u001b[49m\n\u001b[1;32m    531\u001b[0m \u001b[38;5;28;01mif\u001b[39;00m lonlat:\n\u001b[1;32m    532\u001b[0m     \u001b[38;5;28;01mreturn\u001b[39;00m thetaphi2lonlat(theta, phi)\n",
      "\u001b[0;31mTypeError\u001b[0m: ufunc '_pix2ang_ring' not supported for the input types, and the inputs could not be safely coerced to any supported types according to the casting rule ''safe''"
     ]
    }
   ],
   "source": [
    "GetSchedule(obspar)"
   ]
  },
  {
   "cell_type": "code",
   "execution_count": null,
   "metadata": {},
   "outputs": [],
   "source": []
  }
 ],
 "metadata": {
  "kernelspec": {
   "display_name": "Python 3 (ipykernel)",
   "language": "python",
   "name": "python3"
  },
  "language_info": {
   "codemirror_mode": {
    "name": "ipython",
    "version": 3
   },
   "file_extension": ".py",
   "mimetype": "text/x-python",
   "name": "python",
   "nbconvert_exporter": "python",
   "pygments_lexer": "ipython3",
   "version": "3.11.10"
  },
  "vscode": {
   "interpreter": {
    "hash": "27b68d8d765e3bcc7497bdaa8796e67fcbf6255f91f21a56387fb4d1cc5ead39"
   }
  }
 },
 "nbformat": 4,
 "nbformat_minor": 4
}
