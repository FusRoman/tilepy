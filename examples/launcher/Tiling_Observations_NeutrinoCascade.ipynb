{
 "cells": [
  {
   "cell_type": "code",
   "execution_count": 1,
   "metadata": {},
   "outputs": [
    {
     "name": "stderr",
     "output_type": "stream",
     "text": [
      "/Users/md274436/software/miniforge3/envs/tilepy/lib/python3.11/site-packages/ligo/lw/lsctables.py:89: UserWarning: Wswiglal-redir-stdio:\n",
      "\n",
      "SWIGLAL standard output/error redirection is enabled in IPython.\n",
      "This may lead to performance penalties. To disable locally, use:\n",
      "\n",
      "with lal.no_swig_redirect_standard_output_error():\n",
      "    ...\n",
      "\n",
      "To disable globally, use:\n",
      "\n",
      "lal.swig_redirect_standard_output_error(False)\n",
      "\n",
      "Note however that this will likely lead to error messages from\n",
      "LAL functions being either misdirected or lost when called from\n",
      "Jupyter notebooks.\n",
      "\n",
      "To suppress this warning, use:\n",
      "\n",
      "import warnings\n",
      "warnings.filterwarnings(\"ignore\", \"Wswiglal-redir-stdio\")\n",
      "import lal\n",
      "\n",
      "  import lal\n",
      "/Users/md274436/software/miniforge3/envs/tilepy/lib/python3.11/site-packages/tqdm/auto.py:21: TqdmWarning: IProgress not found. Please update jupyter and ipywidgets. See https://ipywidgets.readthedocs.io/en/stable/user_install.html\n",
      "  from .autonotebook import tqdm as notebook_tqdm\n"
     ]
    }
   ],
   "source": [
    "# Import main packages \n",
    "from tilepy.include.ObservationScheduler import GetSchedule\n",
    "from tilepy.include.PointingTools import ObservationParameters, NextWindowTools, getdate\n",
    "import time\n",
    "import argparse\n",
    "import os\n",
    "from pathlib import Path\n"
   ]
  },
  {
   "cell_type": "code",
   "execution_count": 2,
   "metadata": {},
   "outputs": [],
   "source": [
    "from IPython.core.interactiveshell import InteractiveShell\n",
    "InteractiveShell.ast_node_interactivity = \"all\""
   ]
  },
  {
   "cell_type": "markdown",
   "metadata": {},
   "source": [
    "### Set of inputs needed to run the code"
   ]
  },
  {
   "cell_type": "code",
   "execution_count": 3,
   "metadata": {},
   "outputs": [],
   "source": [
    "# Type of followup, options: gbm, gbmpng or gw\n",
    "alertType = 'nucascade'\n",
    "\n",
    "# The url to the FITS file with the sky localization in a healpix format\n",
    "skymap = 'https://roc.icecube.wisc.edu/public/hese_cascades/hese_60448_run00139414.evt000034468187.fits'\n",
    "\n",
    "# Date and time of the event in format YYYY-MM-DD HH:MM:SS. You can use 2023-07-15 14:30:10 for the example .fits file\n",
    "#obsTime = getdate(\"2023-12-06  23:39:01\")\n",
    "#obsTime = getdate(\"2024-04-13  02:33:01\")\n",
    "obsTime = getdate(\"2023-06-10 14:51:47\")\n",
    "\n",
    "# Path to the input datasets (where galaxy cat should be for GW case)\n",
    "datasetDir = '../../tilepy/dataset/'\n",
    "\n",
    "# Path to the output folder\n",
    "outDir = './output'\n",
    "\n",
    "# Config file for the tiling scheduling\n",
    "cfgFile = '../config/FollowupParameters_CTAON.ini'\n",
    "\n",
    "# Tiles already observed\n",
    "pointingsFile = None\n",
    "\n",
    "# Limit on skyloc to perform a followup\n",
    "locCut = None"
   ]
  },
  {
   "cell_type": "code",
   "execution_count": 4,
   "metadata": {},
   "outputs": [],
   "source": [
    "# Create forder for output\n",
    "if not os.path.exists(outDir):\n",
    "    os.makedirs(outDir)"
   ]
  },
  {
   "cell_type": "code",
   "execution_count": 5,
   "metadata": {},
   "outputs": [],
   "source": [
    "#Parse the parameters \n",
    "obspar = ObservationParameters()\n",
    "obspar.add_parsed_args(skymap,obsTime,datasetDir,None,outDir,pointingsFile,alertType,locCut)\n",
    "obspar.from_configfile(cfgFile)"
   ]
  },
  {
   "cell_type": "markdown",
   "metadata": {},
   "source": [
    "### Run the scheduling"
   ]
  },
  {
   "cell_type": "code",
   "execution_count": null,
   "metadata": {},
   "outputs": [
    {
     "name": "stderr",
     "output_type": "stream",
     "text": [
      "The file is already existing, it will be re-downloaded\n"
     ]
    },
    {
     "name": "stdout",
     "output_type": "stream",
     "text": [
      "===========================================================================================\n",
      "===========================================================================================\n",
      "Starting the 2D pointing calculation with the following parameters\n",
      "\n",
      "Filename:  139414_34468187\n",
      "Date:  2023-06-10 14:51:47\n",
      "Previous pointings:  None\n",
      "Dataset:  ../../tilepy/dataset/\n",
      "Output:  ./output/139414_34468187\n",
      "===========================================================================================\n",
      "\n",
      "============== Main parsed observation parameters ==============  \n",
      "Observatory Name: CTAO-N\n",
      "Observatory: 28.75 deg\n",
      "Observatory: -17.5 deg\n",
      "Observatory: 2200.0 m\n",
      "Max zenith: 70\n",
      "Using Greytime is: False\n",
      "FOV: 2.0\n",
      "Max runs: 20\n",
      "Duration: 15\n",
      "High Resolution NSIDE: 512\n",
      "Low Resolution NSIDE: 128\n",
      "The strategy is (3D, integrated, mangrove=False)\n",
      "The level of details is (doPlot=True, doRank = True)\n",
      "\n",
      "\n",
      "-------------------   NEW EVENT   --------------------\n",
      "\n",
      "----------   NEW FOLLOW-UP ATTEMPT   ----------\n",
      "\n",
      "Total GW probability covered:  0.4203 Number of runs that fulfill darkness condition  : 16 Number of effective pointings:  14\n",
      "\n",
      "================================= Tiling found =============================================\n",
      "     Time[UTC]      RA[deg]  DEC[deg]  PGW   Round ObsName Duration FoV\n",
      "------------------- -------- -------- ------ ----- ------- -------- ---\n",
      "2023-06-10 21:41:42    180.0  21.7028 0.0411     1  CTAO-N       15 2.0\n",
      "2023-06-10 21:56:42 181.7578    18.21 0.0367     1  CTAO-N       15 2.0\n",
      "2023-06-10 22:11:42 178.2422  25.2826 0.0356     1  CTAO-N       15 2.0\n",
      "2023-06-10 22:26:42 184.2187  21.7028 0.0344     1  CTAO-N       15 2.0\n",
      "2023-06-10 22:41:42 175.7812  21.7028 0.0337     1  CTAO-N       15 2.0\n",
      "2023-06-10 22:56:42 177.5391    18.21 0.0324     1  CTAO-N       15 2.0\n",
      "2023-06-10 23:11:42 182.4609  25.2826 0.0317     1  CTAO-N       15 2.0\n",
      "2023-06-10 23:26:42  185.625  17.8961 0.0285     1  CTAO-N       15 2.0\n",
      "2023-06-10 23:41:42 174.0234  25.2826 0.0273     1  CTAO-N       15 2.0\n",
      "2023-06-10 23:56:42    180.0  14.7859 0.0267     1  CTAO-N       15 2.0\n",
      "2023-06-11 00:11:42 183.8672  14.4775 0.0251     1  CTAO-N       15 2.0\n",
      "2023-06-11 00:26:42 176.1328   28.631 0.0238     1  CTAO-N       15 2.0\n",
      "2023-06-11 00:41:42 180.3516   28.631  0.023     1  CTAO-N       15 2.0\n",
      "2023-06-11 00:56:42 186.6797  24.6243 0.0203     1  CTAO-N       15 2.0\n",
      "===========================================================================================\n",
      "\n",
      "The total probability PGW:  0.4203\n",
      "\n",
      "Loading pointings from ./output/139414_34468187/PGinFoV/SuggestedPointings_2DProbOptimisation.txt\n",
      "\n",
      "---------  RANKING THE OBSERVATIONS AND PRODUCING THE OUTPUT FILES   ----------\n",
      "\n",
      "./output/139414_34468187/PGinFoV\n",
      "Loading pointings from ./output/139414_34468187/PGinFoV/SuggestedPointings_2DProbOptimisation.txt\n",
      "----------   PLOTTING THE SCHEDULING   ----------\n",
      "Total covered probability with the scheduled tiles is PGW= 0.42030\n"
     ]
    }
   ],
   "source": [
    "# Run the scheduler\n",
    "GetSchedule(obspar)"
   ]
  },
  {
   "cell_type": "code",
   "execution_count": null,
   "metadata": {},
   "outputs": [],
   "source": []
  }
 ],
 "metadata": {
  "kernelspec": {
   "display_name": "Python 3 (ipykernel)",
   "language": "python",
   "name": "python3"
  },
  "language_info": {
   "codemirror_mode": {
    "name": "ipython",
    "version": 3
   },
   "file_extension": ".py",
   "mimetype": "text/x-python",
   "name": "python",
   "nbconvert_exporter": "python",
   "pygments_lexer": "ipython3",
   "version": "3.11.10"
  },
  "vscode": {
   "interpreter": {
    "hash": "27b68d8d765e3bcc7497bdaa8796e67fcbf6255f91f21a56387fb4d1cc5ead39"
   }
  }
 },
 "nbformat": 4,
 "nbformat_minor": 4
}
