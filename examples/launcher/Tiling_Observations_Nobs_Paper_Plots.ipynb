{
 "cells": [
  {
   "cell_type": "code",
   "execution_count": 1,
   "id": "cfb68f4e-6d80-4b7c-b7b3-85ef3ebd82d7",
   "metadata": {},
   "outputs": [
    {
     "name": "stderr",
     "output_type": "stream",
     "text": [
      "/Users/md274436/software/miniforge3/envs/tilepy/lib/python3.11/site-packages/ligo/lw/lsctables.py:89: UserWarning: Wswiglal-redir-stdio:\n",
      "\n",
      "SWIGLAL standard output/error redirection is enabled in IPython.\n",
      "This may lead to performance penalties. To disable locally, use:\n",
      "\n",
      "with lal.no_swig_redirect_standard_output_error():\n",
      "    ...\n",
      "\n",
      "To disable globally, use:\n",
      "\n",
      "lal.swig_redirect_standard_output_error(False)\n",
      "\n",
      "Note however that this will likely lead to error messages from\n",
      "LAL functions being either misdirected or lost when called from\n",
      "Jupyter notebooks.\n",
      "\n",
      "To suppress this warning, use:\n",
      "\n",
      "import warnings\n",
      "warnings.filterwarnings(\"ignore\", \"Wswiglal-redir-stdio\")\n",
      "import lal\n",
      "\n",
      "  import lal\n",
      "/Users/md274436/software/miniforge3/envs/tilepy/lib/python3.11/site-packages/tqdm/auto.py:21: TqdmWarning: IProgress not found. Please update jupyter and ipywidgets. See https://ipywidgets.readthedocs.io/en/stable/user_install.html\n",
      "  from .autonotebook import tqdm as notebook_tqdm\n"
     ]
    }
   ],
   "source": [
    "from tilepy.include.ObservationScheduler import GetUniversalSchedule\n",
    "from tilepy.include.PointingTools import getdate, ObservationParameters\n",
    "import time\n",
    "import argparse\n",
    "import os"
   ]
  },
  {
   "attachments": {},
   "cell_type": "markdown",
   "id": "8b2dfeb0",
   "metadata": {},
   "source": [
    "Sets of inputs needed to run the code "
   ]
  },
  {
   "cell_type": "code",
   "execution_count": 2,
   "id": "8879b037-7d01-41b7-9e57-68488159878b",
   "metadata": {},
   "outputs": [],
   "source": [
    "# Type of followup, options: gbm, gbmpng or gw\n",
    "alertType = 'gw'\n",
    "\n",
    "# Path to the input datasets (where galaxy cat should be for GW case)\n",
    "datasetDir = '../../tilepy/dataset/'\n",
    "\n",
    "# Path to the output folder\n",
    "outDir = './output'\n",
    "\n",
    "# Config file for the tiling scheduling\n",
    "#cfgFile = '../obsConfig/FollowupParameters.ini'\n",
    "\n",
    "# Galaxy catalog name (if no catalog is given, the approach will be 2D) only. Path is given in datasetDir \n",
    "galcatName = \"Gladeplus.h5\"\n",
    "\n",
    "# Tiles already observed\n",
    "pointingsFile = None\n",
    "\n",
    "# Limit on skyloc to perform a followup\n",
    "locCut = None"
   ]
  },
  {
   "attachments": {},
   "cell_type": "markdown",
   "id": "b5aa1f0e",
   "metadata": {},
   "source": [
    "Please choose one of the following maps, dates and obseratory arrays to launch the scheduler\n",
    "- The url to the FITS file with the sky localization, e.g.for GW https://urlpath/Bayestar.fits.gz'\n",
    "- Date and time of the event in format YYYY-MM-DD HH:MM:SS. You can use 2023-07-15 14:30:10 for the example .fits file\n",
    "- Observatory array as a list"
   ]
  },
  {
   "cell_type": "code",
   "execution_count": 3,
   "id": "c4230808",
   "metadata": {},
   "outputs": [],
   "source": [
    "#GW follow-up: Multi-observatory campaign from the Northern and Southern hemisphere using the FoV-integrated 3-dimensional strategy\n",
    "url = 'https://dcc.ligo.org/public/0119/P1500071/007/927563_lalinference.fits.gz'\n",
    "obsTime = getdate(\"2023-03-15 20:51:47\")\n",
    "ObsArray = ['CTAON', 'CTAOS']"
   ]
  },
  {
   "cell_type": "code",
   "execution_count": 4,
   "id": "1bf5fe41",
   "metadata": {},
   "outputs": [],
   "source": [
    "#Very poorly localized Fermi-GBM GRB: Multi-telescope campaign at one site\n",
    "skymap = 'https://heasarc.gsfc.nasa.gov/FTP/fermi/data/gbm/triggers/2023/bn231012231/quicklook/glg_healpix_all_bn231012231.fit'\n",
    "obsTime = getdate(\"2023-10-12 20:42:18\")\n",
    "ObsArray = ['LST1', 'LST2','LST3','LST4']"
   ]
  },
  {
   "cell_type": "code",
   "execution_count": 5,
   "id": "91c7eb1e",
   "metadata": {},
   "outputs": [],
   "source": [
    "#IPN GRB follow-up: Single narrow FoV radio telescope in the Southern Hemisphere\n",
    "skymap = 'https://www.ioffe.ru/LEA/ShortGRBs_IPN/data/20120612T59382/GRB20120612_T59382_IPN_map_hpx.fits.gz'\n",
    "obsTime = getdate(\"2017-08-17 10:30:10\")\n",
    "ObsArray = ['ATCA']"
   ]
  },
  {
   "cell_type": "code",
   "execution_count": 6,
   "id": "85be930a",
   "metadata": {},
   "outputs": [],
   "source": [
    "#GW follow-up: Multi optical observatory campaign around the globe\n",
    "skymap = 'https://gracedb.ligo.org/api/superevents/S190814bv/files/LALInference.v1.fits.gz'\n",
    "obsTime = getdate(\"2023-09-15 01:30:10\")\n",
    "ObsArray = ['ESO', 'ESO2', 'LP','LPL', 'OHP', 'SA', 'HA']"
   ]
  },
  {
   "attachments": {},
   "cell_type": "markdown",
   "id": "b28e2d6b",
   "metadata": {},
   "source": [
    "Proceed with each cell "
   ]
  },
  {
   "cell_type": "code",
   "execution_count": 7,
   "id": "3a0d2a96-9e20-4688-b14a-6f425af2dd0f",
   "metadata": {},
   "outputs": [
    {
     "name": "stdout",
     "output_type": "stream",
     "text": [
      "===========================================================================================\n",
      "parameters ['../config/FollowupParameters_ESO.ini', '../config/FollowupParameters_ESO2.ini', '../config/FollowupParameters_LP.ini', '../config/FollowupParameters_LPL.ini', '../config/FollowupParameters_OHP.ini', '../config/FollowupParameters_SA.ini', '../config/FollowupParameters_HA.ini']\n"
     ]
    }
   ],
   "source": [
    "# Config file for the tiling scheduling are in ../obsConfig/\n",
    "parameters = []\n",
    "for i in ObsArray:\n",
    "    parameters.append(\"../config/FollowupParameters_%s.ini\" % i)\n",
    "print(\"===========================================================================================\")\n",
    "print('parameters', parameters)\n",
    "obsparameters = []"
   ]
  },
  {
   "cell_type": "code",
   "execution_count": 8,
   "id": "aa929f64-da3a-4180-a159-8ea231e8ccbb",
   "metadata": {},
   "outputs": [],
   "source": [
    "for j in range(len(parameters)):\n",
    "    obspar = ObservationParameters()\n",
    "    obspar.add_parsed_args(skymap, obsTime, datasetDir, galcatName, outDir, pointingsFile, alertType, locCut)\n",
    "    obspar.from_configfile(parameters[j])\n",
    "    obsparameters.append(obspar)"
   ]
  },
  {
   "attachments": {},
   "cell_type": "markdown",
   "id": "9b58e099",
   "metadata": {},
   "source": [
    "Run the scheduling"
   ]
  },
  {
   "cell_type": "code",
   "execution_count": 9,
   "id": "9fd228c9-9758-4397-8841-7af1f50d6bb1",
   "metadata": {},
   "outputs": [
    {
     "ename": "AttributeError",
     "evalue": "'list' object has no attribute 'skymap'",
     "output_type": "error",
     "traceback": [
      "\u001b[0;31m---------------------------------------------------------------------------\u001b[0m",
      "\u001b[0;31mAttributeError\u001b[0m                            Traceback (most recent call last)",
      "Cell \u001b[0;32mIn[9], line 2\u001b[0m\n\u001b[1;32m      1\u001b[0m \u001b[38;5;66;03m# Schedule for CTAON and CTAO\u001b[39;00m\n\u001b[0;32m----> 2\u001b[0m \u001b[43mGetUniversalSchedule\u001b[49m\u001b[43m(\u001b[49m\u001b[43mobsparameters\u001b[49m\u001b[43m)\u001b[49m\n",
      "File \u001b[0;32m~/post_doc_cea/GW/tilepy_test/tilepy/include/ObservationScheduler.py:139\u001b[0m, in \u001b[0;36mGetUniversalSchedule\u001b[0;34m(obspar)\u001b[0m\n\u001b[1;32m    130\u001b[0m \u001b[38;5;28;01mdef\u001b[39;00m \u001b[38;5;21mGetUniversalSchedule\u001b[39m(obspar):\n\u001b[1;32m    131\u001b[0m \u001b[38;5;250m    \u001b[39m\u001b[38;5;124;03m'''\u001b[39;00m\n\u001b[1;32m    132\u001b[0m \u001b[38;5;124;03m    Top level function that is called by the user with specific arguments and creates a folder \u001b[39;00m\n\u001b[1;32m    133\u001b[0m \u001b[38;5;124;03m    with the tiling schedules for multiple telescopes/observartories and visibility plots.  \u001b[39;00m\n\u001b[0;32m   (...)\u001b[0m\n\u001b[1;32m    136\u001b[0m \u001b[38;5;124;03m    :type obsparameters: list of class ObservationParameters\u001b[39;00m\n\u001b[1;32m    137\u001b[0m \u001b[38;5;124;03m    '''\u001b[39;00m\n\u001b[0;32m--> 139\u001b[0m     raw_map \u001b[38;5;241m=\u001b[39m \u001b[43mMapReader\u001b[49m\u001b[43m(\u001b[49m\u001b[43mobspar\u001b[49m\u001b[43m)\u001b[49m\n\u001b[1;32m    140\u001b[0m     skymap \u001b[38;5;241m=\u001b[39m SkyMap(obspar, raw_map)\n\u001b[1;32m    142\u001b[0m     \u001b[38;5;28mprint\u001b[39m(\u001b[38;5;124m\"\u001b[39m\u001b[38;5;124m===========================================================================================\u001b[39m\u001b[38;5;124m\"\u001b[39m)\n",
      "File \u001b[0;32m~/post_doc_cea/GW/tilepy_test/tilepy/include/MapManagement/MapReader.py:41\u001b[0m, in \u001b[0;36mMapReader.__init__\u001b[0;34m(self, obspar)\u001b[0m\n\u001b[1;32m     40\u001b[0m \u001b[38;5;28;01mdef\u001b[39;00m \u001b[38;5;21m__init__\u001b[39m(\u001b[38;5;28mself\u001b[39m, obspar):\n\u001b[0;32m---> 41\u001b[0m     skymap_localisation \u001b[38;5;241m=\u001b[39m \u001b[43mobspar\u001b[49m\u001b[38;5;241;43m.\u001b[39;49m\u001b[43mskymap\u001b[49m\n\u001b[1;32m     43\u001b[0m     \u001b[38;5;66;03m# Check if the provided localisation is a url or a path\u001b[39;00m\n\u001b[1;32m     44\u001b[0m     parsed_localisation \u001b[38;5;241m=\u001b[39m urlparse(skymap_localisation)\n",
      "\u001b[0;31mAttributeError\u001b[0m: 'list' object has no attribute 'skymap'"
     ]
    }
   ],
   "source": [
    "# Schedule for CTAON and CTAO\n",
    "GetUniversalSchedule(obsparameters)"
   ]
  },
  {
   "attachments": {},
   "cell_type": "markdown",
   "id": "63ea2996",
   "metadata": {},
   "source": []
  }
 ],
 "metadata": {
  "kernelspec": {
   "display_name": "Python 3 (ipykernel)",
   "language": "python",
   "name": "python3"
  },
  "language_info": {
   "codemirror_mode": {
    "name": "ipython",
    "version": 3
   },
   "file_extension": ".py",
   "mimetype": "text/x-python",
   "name": "python",
   "nbconvert_exporter": "python",
   "pygments_lexer": "ipython3",
   "version": "3.11.10"
  },
  "vscode": {
   "interpreter": {
    "hash": "27b68d8d765e3bcc7497bdaa8796e67fcbf6255f91f21a56387fb4d1cc5ead39"
   }
  }
 },
 "nbformat": 4,
 "nbformat_minor": 5
}
