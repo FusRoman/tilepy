{
 "cells": [
  {
   "cell_type": "code",
   "execution_count": 1,
   "metadata": {},
   "outputs": [
    {
     "name": "stderr",
     "output_type": "stream",
     "text": [
      "/opt/miniconda3/envs/tilepy2/lib/python3.11/site-packages/ligo/lw/lsctables.py:89: UserWarning: Wswiglal-redir-stdio:\n",
      "\n",
      "SWIGLAL standard output/error redirection is enabled in IPython.\n",
      "This may lead to performance penalties. To disable locally, use:\n",
      "\n",
      "with lal.no_swig_redirect_standard_output_error():\n",
      "    ...\n",
      "\n",
      "To disable globally, use:\n",
      "\n",
      "lal.swig_redirect_standard_output_error(False)\n",
      "\n",
      "Note however that this will likely lead to error messages from\n",
      "LAL functions being either misdirected or lost when called from\n",
      "Jupyter notebooks.\n",
      "\n",
      "To suppress this warning, use:\n",
      "\n",
      "import warnings\n",
      "warnings.filterwarnings(\"ignore\", \"Wswiglal-redir-stdio\")\n",
      "import lal\n",
      "\n",
      "  import lal\n",
      "/opt/miniconda3/envs/tilepy2/lib/python3.11/site-packages/tqdm/auto.py:21: TqdmWarning: IProgress not found. Please update jupyter and ipywidgets. See https://ipywidgets.readthedocs.io/en/stable/user_install.html\n",
      "  from .autonotebook import tqdm as notebook_tqdm\n"
     ]
    }
   ],
   "source": [
    "# Import main packages \n",
    "from tilepy.include.ObservationScheduler import GetSchedule\n",
    "from tilepy.include.PointingTools import ObservationParameters, NextWindowTools, getdate\n",
    "import time\n",
    "import argparse\n",
    "import os\n",
    "from pathlib import Path\n"
   ]
  },
  {
   "cell_type": "code",
   "execution_count": 2,
   "metadata": {},
   "outputs": [],
   "source": [
    "from IPython.core.interactiveshell import InteractiveShell\n",
    "InteractiveShell.ast_node_interactivity = \"all\""
   ]
  },
  {
   "attachments": {},
   "cell_type": "markdown",
   "metadata": {},
   "source": [
    "### Set of inputs needed to run the code"
   ]
  },
  {
   "cell_type": "code",
   "execution_count": 25,
   "metadata": {},
   "outputs": [],
   "source": [
    "# The url to the FITS file with the sky localization, e.g.for GW https://urlpath/Bayestar.fits.gz'\n",
    "# You can use https://gracedb.ligo.org/api/superevents/MS230802n/files/bayestar.multiorder.fits,0\n",
    "#skymap =  'https://gracedb.ligo.org/api/superevents/S231206cc/files/bayestar.multiorder.fits,1'\n",
    "#skymap = 'https://gracedb.ligo.org/api/superevents/S240413p/files/bayestar.multiorder.fits,1'\n",
    "#skymap = 'https://dcc.ligo.org/public/0119/P1500071/007/927563_lalinference.fits.gz'\n",
    "#skymap = 'https://gracedb.ligo.org/api/superevents/S240915b/files/bayestar.multiorder.fits,1'\n",
    "skymap = 'https://gracedb.ligo.org/api/superevents/S250328ae/files/Bilby.multiorder.fits,0'\n",
    "#skymap = 'https://gracedb.ligo.org/api/superevents/S250328ae/files/bayestar.multiorder.fits,1'\n",
    "\n",
    "# Date and time of the event in format YYYY-MM-DD HH:MM:SS. You can use 2023-07-15 14:30:10 for the example .fits file\n",
    "#obsTime = getdate(\"2023-12-06  23:39:01\")\n",
    "#obsTime = getdate(\"2024-04-13  02:33:01\")\n",
    "obsTime = getdate(\"2025-03-28 19:10:00\")\n",
    "\n",
    "# Path to the input datasets (where galaxy cat should be for GW case)\n",
    "datasetDir = '../../src/tilepy/dataset/'\n",
    "\n",
    "# Path to the output folder\n",
    "outDir = './output'\n",
    "\n",
    "# Config file for the tiling scheduling\n",
    "cfgFile = '../config/FollowupParameters_LST.ini'\n",
    "#cfgFile = '../../../../Gitlab/lst_tiling/config/FollowupParameters_1_BBH.ini'\n",
    "\n",
    "# Galaxy catalog name (if no catalog is given, the approach will be 2D). Path to th file is defined in datasetDir variable\n",
    "galcatName = 'Gladeplus.h5'\n",
    "\n",
    "# Tiles already observed\n",
    "#pointingsFile = None\n",
    "pointingsFile = '/Users/mseglar/GitHub/tilepy/examples/launcher/output/S250328ae/SuggestedPointings_2DProbOptimisation_firstRound.txt'\n"
   ]
  },
  {
   "cell_type": "code",
   "execution_count": 27,
   "metadata": {},
   "outputs": [],
   "source": [
    "#Parse the parameters \n",
    "obspar = ObservationParameters()\n",
    "obspar.add_parsed_args(skymap,obsTime,datasetDir,galcatName,outDir,pointingsFile)\n",
    "obspar.from_configfile(cfgFile)"
   ]
  },
  {
   "cell_type": "code",
   "execution_count": 28,
   "metadata": {},
   "outputs": [
    {
     "name": "stdout",
     "output_type": "stream",
     "text": [
      "============== Main parsed observation parameters ==============  \n",
      "Observatory Name: LST\n",
      "Event Name: None\n",
      "Observatory: 28.761944 deg\n",
      "Observatory: -17.89 deg\n",
      "Observatory: 2200.0 m\n",
      "Max zenith: 70\n",
      "Using Greytime is: False\n",
      "FOV: 2.5\n",
      "Max runs: 10\n",
      "Duration: 20\n",
      "High Resolution NSIDE: 512\n",
      "Low Resolution NSIDE: 256\n",
      "The strategy is (3D, None, mangrove=False)\n",
      "The level of details is (doPlot=True, doRank = True)\n",
      "\n"
     ]
    }
   ],
   "source": [
    "print(obspar)"
   ]
  },
  {
   "attachments": {},
   "cell_type": "markdown",
   "metadata": {},
   "source": [
    "### Run the scheduling"
   ]
  },
  {
   "cell_type": "code",
   "execution_count": 29,
   "metadata": {},
   "outputs": [
    {
     "name": "stderr",
     "output_type": "stream",
     "text": [
      "The file exists, it will be re-downloaded\n"
     ]
    },
    {
     "name": "stdout",
     "output_type": "stream",
     "text": [
      "===========================================================================================\n",
      "===========================================================================================\n",
      "Starting the 3D pointing calculation with the following parameters\n",
      "\n",
      "Filename:  S250328ae\n",
      "Date:  2025-03-28 19:10:00\n",
      "Previous pointings:  /Users/mseglar/GitHub/tilepy/examples/launcher/output/S250328ae/SuggestedPointings_2DProbOptimisation_firstRound.txt\n",
      "Catalog:  ../../src/tilepy/dataset/Gladeplus.h5\n",
      "Dataset:  ../../src/tilepy/dataset/\n",
      "Output:  ./output/S250328ae\n",
      "90% area = 14.176194226144867. 50% area = 3.4850357221073067\n",
      "===========================================================================================\n",
      "\n",
      "============== Main parsed observation parameters ==============  \n",
      "Observatory Name: LST\n",
      "Event Name: S250328ae\n",
      "Observatory: 28.761944 deg\n",
      "Observatory: -17.89 deg\n",
      "Observatory: 2200.0 m\n",
      "Max zenith: 70\n",
      "Using Greytime is: False\n",
      "FOV: 2.5\n",
      "Max runs: 10\n",
      "Duration: 20\n",
      "High Resolution NSIDE: 512\n",
      "Low Resolution NSIDE: 256\n",
      "The strategy is (3D, None, mangrove=False)\n",
      "The level of details is (doPlot=True, doRank = True)\n",
      "\n",
      "Loading galaxy catalogue from ../../src/tilepy/dataset/Gladeplus.h5\n",
      "Found a generic map without 3D information\n",
      "Subtracting pointings from /Users/mseglar/GitHub/tilepy/examples/launcher/output/S250328ae/SuggestedPointings_2DProbOptimisation_firstRound.txt\n",
      "PGW 0.7805325733302841 P_GAL 0.06440762384031495\n",
      "Coordinates ra: 144.8438 dec: 10.9589 Pgw: 0.7805325733302841 PGAL: 0.06440762384031495\n",
      "PGW 0.0 P_GAL 0.0\n",
      "Coordinates ra: 144.8438 dec: 10.9589 Pgw: 0.0 PGAL: 0.0\n",
      "===========================================================================================\n",
      "\n",
      "Total GW probability already covered: 0.7805325733302841, Total Gal probability already covered: 0.06440762384031495\n",
      "Count Previous = True, Number of pointings already done: 1, Max Runs was 10, now is 9\n",
      "===========================================================================================\n",
      "----------   NEW FOLLOW-UP ATTEMPT   ----------\n",
      "maxRuns:  9 MinimumProbCutForCatalogue:  1e-05\n",
      "No observations are scheduled\n"
     ]
    }
   ],
   "source": [
    "# Run the scheduler\n",
    "GetSchedule(obspar)"
   ]
  },
  {
   "cell_type": "code",
   "execution_count": null,
   "metadata": {},
   "outputs": [],
   "source": []
  }
 ],
 "metadata": {
  "kernelspec": {
   "display_name": "tilepy2",
   "language": "python",
   "name": "python3"
  },
  "language_info": {
   "codemirror_mode": {
    "name": "ipython",
    "version": 3
   },
   "file_extension": ".py",
   "mimetype": "text/x-python",
   "name": "python",
   "nbconvert_exporter": "python",
   "pygments_lexer": "ipython3",
   "version": "3.11.9"
  }
 },
 "nbformat": 4,
 "nbformat_minor": 4
}
