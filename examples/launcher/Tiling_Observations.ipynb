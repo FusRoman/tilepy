{
 "cells": [
  {
   "cell_type": "code",
   "execution_count": 19,
   "metadata": {},
   "outputs": [],
   "source": [
    "# Import main packages \n",
    "from tilepy.include.ObservationScheduler import GetSchedule\n",
    "from tilepy.include.PointingTools import ObservationParameters, NextWindowTools, getdate\n",
    "import time\n",
    "import argparse\n",
    "import os\n",
    "from pathlib import Path\n"
   ]
  },
  {
   "cell_type": "code",
   "execution_count": 20,
   "metadata": {},
   "outputs": [],
   "source": [
    "from IPython.core.interactiveshell import InteractiveShell\n",
    "InteractiveShell.ast_node_interactivity = \"all\""
   ]
  },
  {
   "attachments": {},
   "cell_type": "markdown",
   "metadata": {},
   "source": [
    "### Set of inputs needed to run the code"
   ]
  },
  {
   "cell_type": "code",
   "execution_count": 33,
   "metadata": {},
   "outputs": [],
   "source": [
    "# Type of followup, options: gbm, gbmpng or gw\n",
    "alertType = 'gw'\n",
    "\n",
    "# The url to the FITS file with the sky localization, e.g.for GW https://urlpath/Bayestar.fits.gz'\n",
    "# You can use https://gracedb.ligo.org/api/superevents/MS230802n/files/bayestar.multiorder.fits,0\n",
    "#url =  'https://gracedb.ligo.org/api/superevents/S231206cc/files/bayestar.multiorder.fits,1'\n",
    "#url = 'https://gracedb.ligo.org/api/superevents/S240413p/files/bayestar.multiorder.fits,1'\n",
    "url = 'https://dcc.ligo.org/public/0119/P1500071/007/927563_lalinference.fits.gz'\n",
    "\n",
    "# Date and time of the event in format YYYY-MM-DD HH:MM:SS. You can use 2023-07-15 14:30:10 for the example .fits file\n",
    "#obsTime = getdate(\"2023-12-06  23:39:01\")\n",
    "#obsTime = getdate(\"2024-04-13  02:33:01\")\n",
    "obsTime = getdate(\"2023-03-15 20:51:47\")\n",
    "\n",
    "# Path to the input datasets (where galaxy cat should be for GW case)\n",
    "datasetDir = '../../tilepy/dataset/'\n",
    "\n",
    "# Path to the output folder\n",
    "outDir = './output'\n",
    "\n",
    "# Config file for the tiling scheduling\n",
    "cfgFile = '../config/FollowupParameters_CTAN.ini'\n",
    "\n",
    "# Galaxy catalog name (if no catalog is given, the approach will be 2D). Path to th file is defined in datasetDir variable\n",
    "galcatName = 'Gladeplus.h5'\n",
    "\n",
    "# Tiles already observed\n",
    "pointingsFile = None\n",
    "\n",
    "# Limit on skyloc to perform a followup\n",
    "locCut = None"
   ]
  },
  {
   "cell_type": "code",
   "execution_count": 34,
   "metadata": {},
   "outputs": [],
   "source": [
    "# Create forder for output\n",
    "if not os.path.exists(outDir):\n",
    "    os.makedirs(outDir)"
   ]
  },
  {
   "cell_type": "code",
   "execution_count": 35,
   "metadata": {},
   "outputs": [],
   "source": [
    "#Parse the parameters \n",
    "obspar = ObservationParameters()\n",
    "obspar.add_parsed_args(url,obsTime,datasetDir,galcatName,outDir,pointingsFile,alertType,locCut)\n",
    "obspar.from_configfile(cfgFile)"
   ]
  },
  {
   "attachments": {},
   "cell_type": "markdown",
   "metadata": {},
   "source": [
    "### Run the scheduling"
   ]
  },
  {
   "cell_type": "code",
   "execution_count": 36,
   "metadata": {},
   "outputs": [
    {
     "name": "stdout",
     "output_type": "stream",
     "text": [
      "The filename is  Bilby.offline0.multiorder.fits\n",
      "curl https://gracedb.ligo.org/api/superevents/S240422ed/files/Bilby.offline0.multiorder.fits -o Bilby.offline0.multiorder.fits\n"
     ]
    },
    {
     "name": "stderr",
     "output_type": "stream",
     "text": [
      "  % Total    % Received % Xferd  Average Speed   Time    Time     Time  Current\n",
      "                                 Dload  Upload   Total   Spent    Left  Speed\n",
      "100  849k  100  849k    0     0   525k      0  0:00:01  0:00:01 --:--:--  525k\n"
     ]
    },
    {
     "name": "stdout",
     "output_type": "stream",
     "text": [
      "Is the hotspot in the galactic plane? True\n",
      "===========================================================================================\n",
      "===========================================================================================\n",
      "Starting the 2D pointing calculation with the following parameters\n",
      "\n",
      "Filename:  S240422ed\n",
      "Date:  2024-04-22 20:51:47\n",
      "Previous pointings:  None\n",
      "Dataset:  ../../tilepy/dataset/\n",
      "Output:  ./output/S240422ed\n",
      "===========================================================================================\n",
      "\n",
      "============== Main parsed observation parameters ==============  \n",
      "Observatory Name: LST\n",
      "Observatory: 28.761944 deg\n",
      "Observatory: -17.89 deg\n",
      "Observatory: 2200.0 m\n",
      "Max zenith: 70\n",
      "Using Greytime is: False\n",
      "FOV: 2.5\n",
      "Max runs: 4\n",
      "Duration: 20\n",
      "High Resolution NSIDE: 512\n",
      "Low Resolution NSIDE: 256\n",
      "The strategy is (2D, None, mangrove=False)\n",
      "The level of details is (doPlot=True, doRank = True)\n",
      "\n",
      "\n",
      "-------------------   NEW LVC EVENT   --------------------\n",
      "\n",
      "Loading map from  Bilby.offline0.multiorder.fits\n",
      "Loading LVC HEALPix map from file: Bilby.offline0.multiorder.fits\n",
      "Event has triggered  H1,L1,V1  => distance = 188.19  +- 43.16  Mpc\n",
      "----------   NEW FOLLOW-UP ATTEMPT   ----------\n",
      "\n",
      "Total GW probability covered:  0.0 Number of runs that fulfill darkness condition  : 0 Number of effective pointings:  0\n",
      "\n",
      "================================= Tiling found =============================================\n",
      "Time[UTC] RA[deg] DEC[deg] PGW Round ObsName Duration FoV\n",
      "--------- ------- -------- --- ----- ------- -------- ---\n",
      "===========================================================================================\n",
      "\n",
      "The total probability PGW:  0.0\n",
      "No observations are scheduled\n"
     ]
    }
   ],
   "source": [
    "# Run the scheduler\n",
    "GetSchedule(obspar)"
   ]
  },
  {
   "cell_type": "code",
   "execution_count": null,
   "metadata": {},
   "outputs": [],
   "source": []
  }
 ],
 "metadata": {
  "kernelspec": {
   "display_name": "Python 3.9.0 ('tilepyenv_1')",
   "language": "python",
   "name": "python3"
  },
  "language_info": {
   "codemirror_mode": {
    "name": "ipython",
    "version": 3
   },
   "file_extension": ".py",
   "mimetype": "text/x-python",
   "name": "python",
   "nbconvert_exporter": "python",
   "pygments_lexer": "ipython3",
   "version": "3.9.0"
  },
  "vscode": {
   "interpreter": {
    "hash": "27b68d8d765e3bcc7497bdaa8796e67fcbf6255f91f21a56387fb4d1cc5ead39"
   }
  }
 },
 "nbformat": 4,
 "nbformat_minor": 4
}
