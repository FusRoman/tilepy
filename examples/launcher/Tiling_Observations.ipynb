{
 "cells": [
  {
   "cell_type": "code",
   "execution_count": 2,
   "metadata": {},
   "outputs": [
    {
     "name": "stderr",
     "output_type": "stream",
     "text": [
      "/Users/hashkar/anaconda3/envs/tilepy/lib/python3.11/site-packages/ligo/lw/lsctables.py:89: UserWarning: Wswiglal-redir-stdio:\n",
      "\n",
      "SWIGLAL standard output/error redirection is enabled in IPython.\n",
      "This may lead to performance penalties. To disable locally, use:\n",
      "\n",
      "with lal.no_swig_redirect_standard_output_error():\n",
      "    ...\n",
      "\n",
      "To disable globally, use:\n",
      "\n",
      "lal.swig_redirect_standard_output_error(False)\n",
      "\n",
      "Note however that this will likely lead to error messages from\n",
      "LAL functions being either misdirected or lost when called from\n",
      "Jupyter notebooks.\n",
      "\n",
      "To suppress this warning, use:\n",
      "\n",
      "import warnings\n",
      "warnings.filterwarnings(\"ignore\", \"Wswiglal-redir-stdio\")\n",
      "import lal\n",
      "\n",
      "  import lal\n",
      "/Users/hashkar/anaconda3/envs/tilepy/lib/python3.11/site-packages/tqdm/auto.py:21: TqdmWarning: IProgress not found. Please update jupyter and ipywidgets. See https://ipywidgets.readthedocs.io/en/stable/user_install.html\n",
      "  from .autonotebook import tqdm as notebook_tqdm\n"
     ]
    }
   ],
   "source": [
    "# Import main packages \n",
    "from tilepy.include.ObservationScheduler import GetSchedule\n",
    "from tilepy.include.PointingTools import ObservationParameters, NextWindowTools, getdate\n",
    "import time\n",
    "import argparse\n",
    "import os\n",
    "from pathlib import Path\n"
   ]
  },
  {
   "cell_type": "code",
   "execution_count": 3,
   "metadata": {},
   "outputs": [],
   "source": [
    "from IPython.core.interactiveshell import InteractiveShell\n",
    "InteractiveShell.ast_node_interactivity = \"all\""
   ]
  },
  {
   "attachments": {},
   "cell_type": "markdown",
   "metadata": {},
   "source": [
    "### Set of inputs needed to run the code"
   ]
  },
  {
   "cell_type": "code",
   "execution_count": 5,
   "metadata": {},
   "outputs": [],
   "source": [
    "# Type of followup, options: gbm, gbmpng or gw\n",
    "alertType = 'gw'\n",
    "\n",
    "# The url to the FITS file with the sky localization, e.g.for GW https://urlpath/Bayestar.fits.gz'\n",
    "# You can use https://gracedb.ligo.org/api/superevents/MS230802n/files/bayestar.multiorder.fits,0\n",
    "#url =  'https://gracedb.ligo.org/api/superevents/S231206cc/files/bayestar.multiorder.fits,1'\n",
    "#url = 'https://gracedb.ligo.org/api/superevents/S240413p/files/bayestar.multiorder.fits,1'\n",
    "url = 'https://dcc.ligo.org/public/0119/P1500071/007/927563_lalinference.fits.gz'\n",
    "\n",
    "# Date and time of the event in format YYYY-MM-DD HH:MM:SS. You can use 2023-07-15 14:30:10 for the example .fits file\n",
    "#obsTime = getdate(\"2023-12-06  23:39:01\")\n",
    "#obsTime = getdate(\"2024-04-13  02:33:01\")\n",
    "obsTime = getdate(\"2023-03-15 20:51:47\")\n",
    "\n",
    "# Path to the input datasets (where galaxy cat should be for GW case)\n",
    "datasetDir = '../../dataset/'\n",
    "\n",
    "# Path to the output folder\n",
    "outDir = './output'\n",
    "\n",
    "# Config file for the tiling scheduling\n",
    "cfgFile = '../config/FollowupParameters_CTAN.ini'\n",
    "\n",
    "# Galaxy catalog name (if no catalog is given, the approach will be 2D). Path to th file is defined in datasetDir variable\n",
    "galcatName = 'Gladeplus.h5'\n",
    "\n",
    "# Tiles already observed\n",
    "pointingsFile = None\n",
    "\n",
    "# Limit on skyloc to perform a followup\n",
    "locCut = None"
   ]
  },
  {
   "cell_type": "code",
   "execution_count": 6,
   "metadata": {},
   "outputs": [],
   "source": [
    "# Create forder for output\n",
    "if not os.path.exists(outDir):\n",
    "    os.makedirs(outDir)"
   ]
  },
  {
   "cell_type": "code",
   "execution_count": 7,
   "metadata": {},
   "outputs": [],
   "source": [
    "#Parse the parameters \n",
    "obspar = ObservationParameters()\n",
    "obspar.add_parsed_args(url,obsTime,datasetDir,galcatName,outDir,pointingsFile,alertType,locCut)\n",
    "obspar.from_configfile(cfgFile)"
   ]
  },
  {
   "attachments": {},
   "cell_type": "markdown",
   "metadata": {},
   "source": [
    "### Run the scheduling"
   ]
  },
  {
   "cell_type": "code",
   "execution_count": 8,
   "metadata": {},
   "outputs": [
    {
     "name": "stdout",
     "output_type": "stream",
     "text": [
      "The filename is  927563_lalinference.fits.gz\n",
      "curl https://dcc.ligo.org/public/0119/P1500071/007/927563_lalinference.fits.gz -o 927563_lalinference.fits.gz\n"
     ]
    },
    {
     "name": "stderr",
     "output_type": "stream",
     "text": [
      "  % Total    % Received % Xferd  Average Speed   Time    Time     Time  Current\n",
      "                                 Dload  Upload   Total   Spent    Left  Speed\n",
      "100  329k  100  329k    0     0   196k      0  0:00:01  0:00:01 --:--:--  196k\n"
     ]
    },
    {
     "name": "stdout",
     "output_type": "stream",
     "text": [
      "Is the hotspot in the galactic plane? False\n",
      "===========================================================================================\n",
      "===========================================================================================\n",
      "Starting the 3D pointing calculation with the following parameters\n",
      "\n",
      "Filename:  P1500071\n",
      "Date:  2023-03-15 20:51:47\n",
      "Previous pointings:  None\n",
      "Catalog:  ../../dataset/Gladeplus.h5\n",
      "Dataset:  ../../dataset/\n",
      "Output:  ./output/P1500071\n",
      "===========================================================================================\n",
      "\n",
      "============== Main parsed observation parameters ==============  \n",
      "Observatory Name: CTAO-N\n",
      "Observatory: 28.75 deg\n",
      "Observatory: -17.5 deg\n",
      "Observatory: 2200.0 m\n",
      "Max zenith: 70\n",
      "Using Greytime is: False\n",
      "FOV: 2.0\n",
      "Max runs: 20\n",
      "Duration: 15\n",
      "High Resolution NSIDE: 512\n",
      "Low Resolution NSIDE: 128\n",
      "The strategy is (3D, integrated, mangrove=False)\n",
      "The level of details is (doPlot=True, doRank = True)\n",
      "\n",
      "Loading galaxy catalogue from ../../dataset/Gladeplus.h5\n",
      "Loading map from  927563_lalinference.fits.gz\n",
      "Loading LVC HEALPix map from file: 927563_lalinference.fits.gz\n",
      "Event has triggered  Non specified  => distance = 89.66  +- 19.29  Mpc\n",
      "Found a 3D reconstruction\n",
      "No pointings were given to be substracted\n",
      "----------   NEW FOLLOW-UP ATTEMPT   ----------\n",
      "maxRuns:  20 MinimumProbCutForCatalogue:  0.01\n"
     ]
    },
    {
     "name": "stderr",
     "output_type": "stream",
     "text": [
      "[#################################] 100% de440s.bsp\n"
     ]
    },
    {
     "name": "stdout",
     "output_type": "stream",
     "text": [
      "Condition not met at 2023-03-16 00:36:47+00:00: dp/dV_FOV = 0.013867249436007454 must be greater than 0.02\n",
      "Condition not met at 2023-03-16 00:51:47+00:00: dp/dV_FOV = 0.015473879193866835 must be greater than 0.02\n",
      "Condition not met at 2023-03-16 01:06:47+00:00: dp/dV_FOV = 0.015473879193866835 must be greater than 0.02\n",
      "Condition not met at 2023-03-16 01:21:47+00:00: dp/dV_FOV = 0.015473879193866835 must be greater than 0.02\n",
      "Condition not met at 2023-03-16 01:36:47+00:00: dp/dV_FOV = 0.015473879193866835 must be greater than 0.02\n",
      "Condition not met at 2023-03-16 01:51:47+00:00: dp/dV_FOV = 0.015473879193866835 must be greater than 0.02\n",
      "Condition not met at 2023-03-16 02:06:47+00:00: dp/dV_FOV = 0.015473879193866835 must be greater than 0.02\n",
      "Condition not met at 2023-03-16 02:21:47+00:00: dp/dV_FOV = 0.015473879193866835 must be greater than 0.02\n",
      "Condition not met at 2023-03-16 02:36:47+00:00: dp/dV_FOV = 0.01221957265612503 must be greater than 0.02\n",
      "Condition not met at 2023-03-16 02:51:47+00:00: dp/dV_FOV = 0.01221957265612503 must be greater than 0.02\n",
      "Condition not met at 2023-03-16 03:06:47+00:00: dp/dV_FOV = 0.015473879193866835 must be greater than 0.02\n",
      "\n",
      "\n",
      "The total probability PGal:  0.7140999999999998\n",
      "The total probability PGW:  0.5\n",
      "\n",
      "Loading pointings from ./output/P1500071/PGallinFoVintegrated/SuggestedPointings_GalProbOptimisation.txt\n",
      "\n",
      "---------  RANKING THE OBSERVATIONS AND PRODUCING THE OUTPUT FILES   ----------\n",
      "\n",
      "Loading map from  927563_lalinference.fits.gz\n",
      "Loading LVC HEALPix map from file: 927563_lalinference.fits.gz\n"
     ]
    },
    {
     "ename": "EOFError",
     "evalue": "Compressed file ended before the end-of-stream marker was reached",
     "output_type": "error",
     "traceback": [
      "\u001b[0;31m---------------------------------------------------------------------------\u001b[0m",
      "\u001b[0;31mEOFError\u001b[0m                                  Traceback (most recent call last)",
      "File \u001b[0;32m~/anaconda3/envs/tilepy/lib/python3.11/site-packages/astropy/io/fits/file.py:409\u001b[0m, in \u001b[0;36m_File.readarray\u001b[0;34m(self, size, offset, dtype, shape)\u001b[0m\n\u001b[1;32m    408\u001b[0m \u001b[39mself\u001b[39m\u001b[39m.\u001b[39m_file\u001b[39m.\u001b[39mseek(offset)\n\u001b[0;32m--> 409\u001b[0m data \u001b[39m=\u001b[39m _array_from_file(\u001b[39mself\u001b[39;49m\u001b[39m.\u001b[39;49m_file, dtype, count)\n\u001b[1;32m    410\u001b[0m data\u001b[39m.\u001b[39mshape \u001b[39m=\u001b[39m shape\n",
      "File \u001b[0;32m~/anaconda3/envs/tilepy/lib/python3.11/site-packages/astropy/io/fits/util.py:539\u001b[0m, in \u001b[0;36m_array_from_file\u001b[0;34m(infile, dtype, count)\u001b[0m\n\u001b[1;32m    538\u001b[0m read_size \u001b[39m=\u001b[39m np\u001b[39m.\u001b[39mdtype(dtype)\u001b[39m.\u001b[39mitemsize \u001b[39m*\u001b[39m count\n\u001b[0;32m--> 539\u001b[0m s \u001b[39m=\u001b[39m infile\u001b[39m.\u001b[39;49mread(read_size)\n\u001b[1;32m    540\u001b[0m array \u001b[39m=\u001b[39m np\u001b[39m.\u001b[39mndarray(buffer\u001b[39m=\u001b[39ms, dtype\u001b[39m=\u001b[39mdtype, shape\u001b[39m=\u001b[39m(count,))\n",
      "File \u001b[0;32m~/anaconda3/envs/tilepy/lib/python3.11/gzip.py:301\u001b[0m, in \u001b[0;36mGzipFile.read\u001b[0;34m(self, size)\u001b[0m\n\u001b[1;32m    300\u001b[0m     \u001b[39mraise\u001b[39;00m \u001b[39mOSError\u001b[39;00m(errno\u001b[39m.\u001b[39mEBADF, \u001b[39m\"\u001b[39m\u001b[39mread() on write-only GzipFile object\u001b[39m\u001b[39m\"\u001b[39m)\n\u001b[0;32m--> 301\u001b[0m \u001b[39mreturn\u001b[39;00m \u001b[39mself\u001b[39m\u001b[39m.\u001b[39m_buffer\u001b[39m.\u001b[39mread(size)\n",
      "File \u001b[0;32m~/anaconda3/envs/tilepy/lib/python3.11/_compression.py:68\u001b[0m, in \u001b[0;36mDecompressReader.readinto\u001b[0;34m(self, b)\u001b[0m\n\u001b[1;32m     67\u001b[0m \u001b[39mwith\u001b[39;00m \u001b[39mmemoryview\u001b[39m(b) \u001b[39mas\u001b[39;00m view, view\u001b[39m.\u001b[39mcast(\u001b[39m\"\u001b[39m\u001b[39mB\u001b[39m\u001b[39m\"\u001b[39m) \u001b[39mas\u001b[39;00m byte_view:\n\u001b[0;32m---> 68\u001b[0m     data \u001b[39m=\u001b[39m \u001b[39mself\u001b[39;49m\u001b[39m.\u001b[39;49mread(\u001b[39mlen\u001b[39;49m(byte_view))\n\u001b[1;32m     69\u001b[0m     byte_view[:\u001b[39mlen\u001b[39m(data)] \u001b[39m=\u001b[39m data\n",
      "File \u001b[0;32m~/anaconda3/envs/tilepy/lib/python3.11/gzip.py:518\u001b[0m, in \u001b[0;36m_GzipReader.read\u001b[0;34m(self, size)\u001b[0m\n\u001b[1;32m    517\u001b[0m     \u001b[39mif\u001b[39;00m buf \u001b[39m==\u001b[39m \u001b[39mb\u001b[39m\u001b[39m\"\u001b[39m\u001b[39m\"\u001b[39m:\n\u001b[0;32m--> 518\u001b[0m         \u001b[39mraise\u001b[39;00m \u001b[39mEOFError\u001b[39;00m(\u001b[39m\"\u001b[39m\u001b[39mCompressed file ended before the \u001b[39m\u001b[39m\"\u001b[39m\n\u001b[1;32m    519\u001b[0m                        \u001b[39m\"\u001b[39m\u001b[39mend-of-stream marker was reached\u001b[39m\u001b[39m\"\u001b[39m)\n\u001b[1;32m    521\u001b[0m \u001b[39mself\u001b[39m\u001b[39m.\u001b[39m_add_read_data( uncompress )\n",
      "\u001b[0;31mEOFError\u001b[0m: Compressed file ended before the end-of-stream marker was reached",
      "\nDuring handling of the above exception, another exception occurred:\n",
      "\u001b[0;31mEOFError\u001b[0m                                  Traceback (most recent call last)",
      "Cell \u001b[0;32mIn[8], line 2\u001b[0m\n\u001b[1;32m      1\u001b[0m \u001b[39m# Run the scheduler\u001b[39;00m\n\u001b[0;32m----> 2\u001b[0m GetSchedule(obspar)\n",
      "File \u001b[0;32m~/anaconda3/envs/tilepy/lib/python3.11/site-packages/tilepy/include/ObservationScheduler.py:125\u001b[0m, in \u001b[0;36mGetSchedule\u001b[0;34m(obspar)\u001b[0m\n\u001b[1;32m    123\u001b[0m \u001b[39mprint\u001b[39m()\n\u001b[1;32m    124\u001b[0m \u001b[39mif\u001b[39;00m(obspar\u001b[39m.\u001b[39mdoRank):\n\u001b[0;32m--> 125\u001b[0m     RankingTimes(obspar\u001b[39m.\u001b[39;49mobsTime, filename, cat, obspar, obspar\u001b[39m.\u001b[39;49malertType, dirName,\n\u001b[1;32m    126\u001b[0m                 \u001b[39m'\u001b[39;49m\u001b[39m%s\u001b[39;49;00m\u001b[39m/SuggestedPointings_GalProbOptimisation.txt\u001b[39;49m\u001b[39m'\u001b[39;49m \u001b[39m%\u001b[39;49m dirName, obspar\u001b[39m.\u001b[39;49mname)\n\u001b[1;32m    127\u001b[0m \u001b[39mif\u001b[39;00m(obspar\u001b[39m.\u001b[39mdoPlot):\n\u001b[1;32m    128\u001b[0m     PointingPlotting(prob, obspar, name, dirName,\n\u001b[1;32m    129\u001b[0m                     \u001b[39m'\u001b[39m\u001b[39m%s\u001b[39;00m\u001b[39m/SuggestedPointings_GalProbOptimisation.txt\u001b[39m\u001b[39m'\u001b[39m \u001b[39m%\u001b[39m dirName, obspar\u001b[39m.\u001b[39mname, filename, cat)\n",
      "File \u001b[0;32m~/anaconda3/envs/tilepy/lib/python3.11/site-packages/tilepy/include/RankingObservationTimes.py:533\u001b[0m, in \u001b[0;36mRankingTimes\u001b[0;34m(ObservationTime, filename, cat, obspar, targetType, dirName, PointingFile, ObsArray)\u001b[0m\n\u001b[1;32m    530\u001b[0m \u001b[39mprint\u001b[39m()\n\u001b[1;32m    532\u001b[0m \u001b[39mprint\u001b[39m(\u001b[39m'\u001b[39m\u001b[39mLoading map from \u001b[39m\u001b[39m'\u001b[39m, filename)\n\u001b[0;32m--> 533\u001b[0m prob, distmu, distsigma, distnorm, detectors, fits_id, thisDistance, thisDistanceErr \u001b[39m=\u001b[39m LoadHealpixMap(\n\u001b[1;32m    534\u001b[0m     filename)\n\u001b[1;32m    535\u001b[0m npix \u001b[39m=\u001b[39m \u001b[39mlen\u001b[39m(prob)\n\u001b[1;32m    536\u001b[0m nside \u001b[39m=\u001b[39m hp\u001b[39m.\u001b[39mnpix2nside(npix)\n",
      "File \u001b[0;32m~/anaconda3/envs/tilepy/lib/python3.11/site-packages/tilepy/include/PointingTools.py:1039\u001b[0m, in \u001b[0;36mLoadHealpixMap\u001b[0;34m(thisfilename)\u001b[0m\n\u001b[1;32m   1037\u001b[0m     tprob \u001b[39m=\u001b[39m skymap[\u001b[39m0\u001b[39m]\n\u001b[1;32m   1038\u001b[0m \u001b[39melse\u001b[39;00m:\n\u001b[0;32m-> 1039\u001b[0m     skymap \u001b[39m=\u001b[39m lf\u001b[39m.\u001b[39;49mread_sky_map(thisfilename, distances \u001b[39m=\u001b[39;49m \u001b[39mTrue\u001b[39;49;00m) \n\u001b[1;32m   1040\u001b[0m     tprob \u001b[39m=\u001b[39m skymap[\u001b[39m0\u001b[39m][\u001b[39m0\u001b[39m]\n\u001b[1;32m   1041\u001b[0m     tdistmu \u001b[39m=\u001b[39m skymap[\u001b[39m0\u001b[39m][\u001b[39m1\u001b[39m]\n",
      "File \u001b[0;32m~/anaconda3/envs/tilepy/lib/python3.11/site-packages/ligo/skymap/io/fits.py:433\u001b[0m, in \u001b[0;36mread_sky_map\u001b[0;34m(filename, nest, distances, moc, **kwargs)\u001b[0m\n\u001b[1;32m    388\u001b[0m \u001b[39mdef\u001b[39;00m \u001b[39mread_sky_map\u001b[39m(filename, nest\u001b[39m=\u001b[39m\u001b[39mFalse\u001b[39;00m, distances\u001b[39m=\u001b[39m\u001b[39mFalse\u001b[39;00m, moc\u001b[39m=\u001b[39m\u001b[39mFalse\u001b[39;00m, \u001b[39m*\u001b[39m\u001b[39m*\u001b[39mkwargs):\n\u001b[1;32m    389\u001b[0m \u001b[39m    \u001b[39m\u001b[39m\"\"\"Read a LIGO/Virgo/KAGRA-type sky map and return a tuple of the HEALPix\u001b[39;00m\n\u001b[1;32m    390\u001b[0m \u001b[39m    array and a dictionary of metadata from the header.\u001b[39;00m\n\u001b[1;32m    391\u001b[0m \n\u001b[0;32m   (...)\u001b[0m\n\u001b[1;32m    431\u001b[0m \n\u001b[1;32m    432\u001b[0m \u001b[39m    \"\"\"\u001b[39;00m\n\u001b[0;32m--> 433\u001b[0m     m \u001b[39m=\u001b[39m Table\u001b[39m.\u001b[39;49mread(filename, \u001b[39mformat\u001b[39;49m\u001b[39m=\u001b[39;49m\u001b[39m'\u001b[39;49m\u001b[39mfits\u001b[39;49m\u001b[39m'\u001b[39;49m, \u001b[39m*\u001b[39;49m\u001b[39m*\u001b[39;49mkwargs)\n\u001b[1;32m    435\u001b[0m     \u001b[39m# Remove some keys that we do not need\u001b[39;00m\n\u001b[1;32m    436\u001b[0m     \u001b[39mfor\u001b[39;00m key \u001b[39min\u001b[39;00m (\n\u001b[1;32m    437\u001b[0m             \u001b[39m'\u001b[39m\u001b[39mPIXTYPE\u001b[39m\u001b[39m'\u001b[39m, \u001b[39m'\u001b[39m\u001b[39mEXTNAME\u001b[39m\u001b[39m'\u001b[39m, \u001b[39m'\u001b[39m\u001b[39mNSIDE\u001b[39m\u001b[39m'\u001b[39m, \u001b[39m'\u001b[39m\u001b[39mFIRSTPIX\u001b[39m\u001b[39m'\u001b[39m, \u001b[39m'\u001b[39m\u001b[39mLASTPIX\u001b[39m\u001b[39m'\u001b[39m, \u001b[39m'\u001b[39m\u001b[39mINDXSCHM\u001b[39m\u001b[39m'\u001b[39m,\n\u001b[1;32m    438\u001b[0m             \u001b[39m'\u001b[39m\u001b[39mMOCORDER\u001b[39m\u001b[39m'\u001b[39m):\n",
      "File \u001b[0;32m~/anaconda3/envs/tilepy/lib/python3.11/site-packages/astropy/table/connect.py:62\u001b[0m, in \u001b[0;36mTableRead.__call__\u001b[0;34m(self, *args, **kwargs)\u001b[0m\n\u001b[1;32m     59\u001b[0m units \u001b[39m=\u001b[39m kwargs\u001b[39m.\u001b[39mpop(\u001b[39m\"\u001b[39m\u001b[39munits\u001b[39m\u001b[39m\"\u001b[39m, \u001b[39mNone\u001b[39;00m)\n\u001b[1;32m     60\u001b[0m descriptions \u001b[39m=\u001b[39m kwargs\u001b[39m.\u001b[39mpop(\u001b[39m\"\u001b[39m\u001b[39mdescriptions\u001b[39m\u001b[39m\"\u001b[39m, \u001b[39mNone\u001b[39;00m)\n\u001b[0;32m---> 62\u001b[0m out \u001b[39m=\u001b[39m \u001b[39mself\u001b[39;49m\u001b[39m.\u001b[39;49mregistry\u001b[39m.\u001b[39;49mread(\u001b[39mcls\u001b[39;49m, \u001b[39m*\u001b[39;49margs, \u001b[39m*\u001b[39;49m\u001b[39m*\u001b[39;49mkwargs)\n\u001b[1;32m     64\u001b[0m \u001b[39m# For some readers (e.g., ascii.ecsv), the returned `out` class is not\u001b[39;00m\n\u001b[1;32m     65\u001b[0m \u001b[39m# guaranteed to be the same as the desired output `cls`.  If so,\u001b[39;00m\n\u001b[1;32m     66\u001b[0m \u001b[39m# try coercing to desired class without copying (io.registry.read\u001b[39;00m\n\u001b[1;32m     67\u001b[0m \u001b[39m# would normally do a copy).  The normal case here is swapping\u001b[39;00m\n\u001b[1;32m     68\u001b[0m \u001b[39m# Table <=> QTable.\u001b[39;00m\n\u001b[1;32m     69\u001b[0m \u001b[39mif\u001b[39;00m \u001b[39mcls\u001b[39m \u001b[39mis\u001b[39;00m \u001b[39mnot\u001b[39;00m out\u001b[39m.\u001b[39m\u001b[39m__class__\u001b[39m:\n",
      "File \u001b[0;32m~/anaconda3/envs/tilepy/lib/python3.11/site-packages/astropy/io/registry/core.py:221\u001b[0m, in \u001b[0;36mUnifiedInputRegistry.read\u001b[0;34m(self, cls, format, cache, *args, **kwargs)\u001b[0m\n\u001b[1;32m    218\u001b[0m         kwargs\u001b[39m.\u001b[39mupdate({\u001b[39m\"\u001b[39m\u001b[39mfilename\u001b[39m\u001b[39m\"\u001b[39m: path})\n\u001b[1;32m    220\u001b[0m reader \u001b[39m=\u001b[39m \u001b[39mself\u001b[39m\u001b[39m.\u001b[39mget_reader(\u001b[39mformat\u001b[39m, \u001b[39mcls\u001b[39m)\n\u001b[0;32m--> 221\u001b[0m data \u001b[39m=\u001b[39m reader(\u001b[39m*\u001b[39;49margs, \u001b[39m*\u001b[39;49m\u001b[39m*\u001b[39;49mkwargs)\n\u001b[1;32m    223\u001b[0m \u001b[39mif\u001b[39;00m \u001b[39mnot\u001b[39;00m \u001b[39misinstance\u001b[39m(data, \u001b[39mcls\u001b[39m):\n\u001b[1;32m    224\u001b[0m     \u001b[39m# User has read with a subclass where only the parent class is\u001b[39;00m\n\u001b[1;32m    225\u001b[0m     \u001b[39m# registered.  This returns the parent class, so try coercing\u001b[39;00m\n\u001b[1;32m    226\u001b[0m     \u001b[39m# to desired subclass.\u001b[39;00m\n\u001b[1;32m    227\u001b[0m     \u001b[39mtry\u001b[39;00m:\n",
      "File \u001b[0;32m~/anaconda3/envs/tilepy/lib/python3.11/site-packages/astropy/io/fits/connect.py:247\u001b[0m, in \u001b[0;36mread_table_fits\u001b[0;34m(input, hdu, astropy_native, memmap, character_as_bytes, unit_parse_strict, mask_invalid)\u001b[0m\n\u001b[1;32m    244\u001b[0m hdulist \u001b[39m=\u001b[39m fits_open(\u001b[39minput\u001b[39m, character_as_bytes\u001b[39m=\u001b[39mcharacter_as_bytes, memmap\u001b[39m=\u001b[39mmemmap)\n\u001b[1;32m    246\u001b[0m \u001b[39mtry\u001b[39;00m:\n\u001b[0;32m--> 247\u001b[0m     \u001b[39mreturn\u001b[39;00m read_table_fits(\n\u001b[1;32m    248\u001b[0m         hdulist,\n\u001b[1;32m    249\u001b[0m         hdu\u001b[39m=\u001b[39;49mhdu,\n\u001b[1;32m    250\u001b[0m         astropy_native\u001b[39m=\u001b[39;49mastropy_native,\n\u001b[1;32m    251\u001b[0m         unit_parse_strict\u001b[39m=\u001b[39;49munit_parse_strict,\n\u001b[1;32m    252\u001b[0m         mask_invalid\u001b[39m=\u001b[39;49mmask_invalid,\n\u001b[1;32m    253\u001b[0m     )\n\u001b[1;32m    254\u001b[0m \u001b[39mfinally\u001b[39;00m:\n\u001b[1;32m    255\u001b[0m     hdulist\u001b[39m.\u001b[39mclose()\n",
      "File \u001b[0;32m~/anaconda3/envs/tilepy/lib/python3.11/site-packages/astropy/io/fits/connect.py:259\u001b[0m, in \u001b[0;36mread_table_fits\u001b[0;34m(input, hdu, astropy_native, memmap, character_as_bytes, unit_parse_strict, mask_invalid)\u001b[0m\n\u001b[1;32m    255\u001b[0m         hdulist\u001b[39m.\u001b[39mclose()\n\u001b[1;32m    257\u001b[0m \u001b[39m# In the loop below we access the data using data[col.name] rather than\u001b[39;00m\n\u001b[1;32m    258\u001b[0m \u001b[39m# col.array to make sure that the data is scaled correctly if needed.\u001b[39;00m\n\u001b[0;32m--> 259\u001b[0m data \u001b[39m=\u001b[39m table\u001b[39m.\u001b[39;49mdata\n\u001b[1;32m    261\u001b[0m columns \u001b[39m=\u001b[39m []\n\u001b[1;32m    262\u001b[0m \u001b[39mfor\u001b[39;00m col \u001b[39min\u001b[39;00m data\u001b[39m.\u001b[39mcolumns:\n\u001b[1;32m    263\u001b[0m     \u001b[39m# Check if column is masked. Here, we make a guess based on the\u001b[39;00m\n\u001b[1;32m    264\u001b[0m     \u001b[39m# presence of FITS mask values. For integer columns, this is simply\u001b[39;00m\n\u001b[0;32m   (...)\u001b[0m\n\u001b[1;32m    270\u001b[0m     \u001b[39m# floats and strings to the column's fill_value to ensure round trips\u001b[39;00m\n\u001b[1;32m    271\u001b[0m     \u001b[39m# preserve null values.\u001b[39;00m\n",
      "File \u001b[0;32m~/anaconda3/envs/tilepy/lib/python3.11/site-packages/astropy/utils/decorators.py:836\u001b[0m, in \u001b[0;36mlazyproperty.__get__\u001b[0;34m(self, obj, owner)\u001b[0m\n\u001b[1;32m    834\u001b[0m         val \u001b[39m=\u001b[39m obj_dict\u001b[39m.\u001b[39mget(\u001b[39mself\u001b[39m\u001b[39m.\u001b[39m_key, _NotFound)\n\u001b[1;32m    835\u001b[0m         \u001b[39mif\u001b[39;00m val \u001b[39mis\u001b[39;00m _NotFound:\n\u001b[0;32m--> 836\u001b[0m             val \u001b[39m=\u001b[39m \u001b[39mself\u001b[39;49m\u001b[39m.\u001b[39;49mfget(obj)\n\u001b[1;32m    837\u001b[0m             obj_dict[\u001b[39mself\u001b[39m\u001b[39m.\u001b[39m_key] \u001b[39m=\u001b[39m val\n\u001b[1;32m    838\u001b[0m \u001b[39mreturn\u001b[39;00m val\n",
      "File \u001b[0;32m~/anaconda3/envs/tilepy/lib/python3.11/site-packages/astropy/io/fits/hdu/table.py:407\u001b[0m, in \u001b[0;36m_TableBaseHDU.data\u001b[0;34m(self)\u001b[0m\n\u001b[1;32m    405\u001b[0m \u001b[39m@lazyproperty\u001b[39m\n\u001b[1;32m    406\u001b[0m \u001b[39mdef\u001b[39;00m \u001b[39mdata\u001b[39m(\u001b[39mself\u001b[39m):\n\u001b[0;32m--> 407\u001b[0m     data \u001b[39m=\u001b[39m \u001b[39mself\u001b[39;49m\u001b[39m.\u001b[39;49m_get_tbdata()\n\u001b[1;32m    408\u001b[0m     data\u001b[39m.\u001b[39m_coldefs \u001b[39m=\u001b[39m \u001b[39mself\u001b[39m\u001b[39m.\u001b[39mcolumns\n\u001b[1;32m    409\u001b[0m     data\u001b[39m.\u001b[39m_character_as_bytes \u001b[39m=\u001b[39m \u001b[39mself\u001b[39m\u001b[39m.\u001b[39m_character_as_bytes\n",
      "File \u001b[0;32m~/anaconda3/envs/tilepy/lib/python3.11/site-packages/astropy/io/fits/hdu/table.py:193\u001b[0m, in \u001b[0;36m_TableLikeHDU._get_tbdata\u001b[0;34m(self)\u001b[0m\n\u001b[1;32m    191\u001b[0m     data \u001b[39m=\u001b[39m raw_data[:tbsize]\u001b[39m.\u001b[39mview(dtype\u001b[39m=\u001b[39mcolumns\u001b[39m.\u001b[39mdtype, \u001b[39mtype\u001b[39m\u001b[39m=\u001b[39mnp\u001b[39m.\u001b[39mrec\u001b[39m.\u001b[39mrecarray)\n\u001b[1;32m    192\u001b[0m \u001b[39melse\u001b[39;00m:\n\u001b[0;32m--> 193\u001b[0m     raw_data \u001b[39m=\u001b[39m \u001b[39mself\u001b[39;49m\u001b[39m.\u001b[39;49m_get_raw_data(\u001b[39mself\u001b[39;49m\u001b[39m.\u001b[39;49m_nrows, columns\u001b[39m.\u001b[39;49mdtype, \u001b[39mself\u001b[39;49m\u001b[39m.\u001b[39;49m_data_offset)\n\u001b[1;32m    194\u001b[0m     \u001b[39mif\u001b[39;00m raw_data \u001b[39mis\u001b[39;00m \u001b[39mNone\u001b[39;00m:\n\u001b[1;32m    195\u001b[0m         \u001b[39m# This can happen when a brand new table HDU is being created\u001b[39;00m\n\u001b[1;32m    196\u001b[0m         \u001b[39m# and no data has been assigned to the columns, which case just\u001b[39;00m\n\u001b[1;32m    197\u001b[0m         \u001b[39m# return an empty array\u001b[39;00m\n\u001b[1;32m    198\u001b[0m         raw_data \u001b[39m=\u001b[39m np\u001b[39m.\u001b[39marray([], dtype\u001b[39m=\u001b[39mcolumns\u001b[39m.\u001b[39mdtype)\n",
      "File \u001b[0;32m~/anaconda3/envs/tilepy/lib/python3.11/site-packages/astropy/io/fits/hdu/base.py:559\u001b[0m, in \u001b[0;36m_BaseHDU._get_raw_data\u001b[0;34m(self, shape, code, offset)\u001b[0m\n\u001b[1;32m    557\u001b[0m     \u001b[39mreturn\u001b[39;00m np\u001b[39m.\u001b[39mndarray(shape, dtype\u001b[39m=\u001b[39mcode, buffer\u001b[39m=\u001b[39m\u001b[39mself\u001b[39m\u001b[39m.\u001b[39m_buffer, offset\u001b[39m=\u001b[39moffset)\n\u001b[1;32m    558\u001b[0m \u001b[39melif\u001b[39;00m \u001b[39mself\u001b[39m\u001b[39m.\u001b[39m_file:\n\u001b[0;32m--> 559\u001b[0m     \u001b[39mreturn\u001b[39;00m \u001b[39mself\u001b[39;49m\u001b[39m.\u001b[39;49m_file\u001b[39m.\u001b[39;49mreadarray(offset\u001b[39m=\u001b[39;49moffset, dtype\u001b[39m=\u001b[39;49mcode, shape\u001b[39m=\u001b[39;49mshape)\n\u001b[1;32m    560\u001b[0m \u001b[39melse\u001b[39;00m:\n\u001b[1;32m    561\u001b[0m     \u001b[39mreturn\u001b[39;00m \u001b[39mNone\u001b[39;00m\n",
      "File \u001b[0;32m~/anaconda3/envs/tilepy/lib/python3.11/site-packages/astropy/io/fits/file.py:419\u001b[0m, in \u001b[0;36m_File.readarray\u001b[0;34m(self, size, offset, dtype, shape)\u001b[0m\n\u001b[1;32m    412\u001b[0m \u001b[39mfinally\u001b[39;00m:\n\u001b[1;32m    413\u001b[0m     \u001b[39m# Make sure we leave the file in the position we found it; on\u001b[39;00m\n\u001b[1;32m    414\u001b[0m     \u001b[39m# some platforms (e.g. Windows) mmaping a file handle can also\u001b[39;00m\n\u001b[1;32m    415\u001b[0m     \u001b[39m# reset its file pointer.\u001b[39;00m\n\u001b[1;32m    416\u001b[0m     \u001b[39m# Also for Windows when using mmap seek() may return weird\u001b[39;00m\n\u001b[1;32m    417\u001b[0m     \u001b[39m# negative values, which is fixed by calling tell() before.\u001b[39;00m\n\u001b[1;32m    418\u001b[0m     \u001b[39mself\u001b[39m\u001b[39m.\u001b[39m_file\u001b[39m.\u001b[39mtell()\n\u001b[0;32m--> 419\u001b[0m     \u001b[39mself\u001b[39;49m\u001b[39m.\u001b[39;49m_file\u001b[39m.\u001b[39;49mseek(filepos)\n",
      "File \u001b[0;32m~/anaconda3/envs/tilepy/lib/python3.11/gzip.py:393\u001b[0m, in \u001b[0;36mGzipFile.seek\u001b[0;34m(self, offset, whence)\u001b[0m\n\u001b[1;32m    391\u001b[0m \u001b[39melif\u001b[39;00m \u001b[39mself\u001b[39m\u001b[39m.\u001b[39mmode \u001b[39m==\u001b[39m READ:\n\u001b[1;32m    392\u001b[0m     \u001b[39mself\u001b[39m\u001b[39m.\u001b[39m_check_not_closed()\n\u001b[0;32m--> 393\u001b[0m     \u001b[39mreturn\u001b[39;00m \u001b[39mself\u001b[39m\u001b[39m.\u001b[39m_buffer\u001b[39m.\u001b[39mseek(offset, whence)\n\u001b[1;32m    395\u001b[0m \u001b[39mreturn\u001b[39;00m \u001b[39mself\u001b[39m\u001b[39m.\u001b[39moffset\n",
      "File \u001b[0;32m~/anaconda3/envs/tilepy/lib/python3.11/_compression.py:153\u001b[0m, in \u001b[0;36mDecompressReader.seek\u001b[0;34m(self, offset, whence)\u001b[0m\n\u001b[1;32m    151\u001b[0m \u001b[39m# Read and discard data until we reach the desired position.\u001b[39;00m\n\u001b[1;32m    152\u001b[0m \u001b[39mwhile\u001b[39;00m offset \u001b[39m>\u001b[39m \u001b[39m0\u001b[39m:\n\u001b[0;32m--> 153\u001b[0m     data \u001b[39m=\u001b[39m \u001b[39mself\u001b[39;49m\u001b[39m.\u001b[39;49mread(\u001b[39mmin\u001b[39;49m(io\u001b[39m.\u001b[39;49mDEFAULT_BUFFER_SIZE, offset))\n\u001b[1;32m    154\u001b[0m     \u001b[39mif\u001b[39;00m \u001b[39mnot\u001b[39;00m data:\n\u001b[1;32m    155\u001b[0m         \u001b[39mbreak\u001b[39;00m\n",
      "File \u001b[0;32m~/anaconda3/envs/tilepy/lib/python3.11/gzip.py:518\u001b[0m, in \u001b[0;36m_GzipReader.read\u001b[0;34m(self, size)\u001b[0m\n\u001b[1;32m    516\u001b[0m         \u001b[39mbreak\u001b[39;00m\n\u001b[1;32m    517\u001b[0m     \u001b[39mif\u001b[39;00m buf \u001b[39m==\u001b[39m \u001b[39mb\u001b[39m\u001b[39m\"\u001b[39m\u001b[39m\"\u001b[39m:\n\u001b[0;32m--> 518\u001b[0m         \u001b[39mraise\u001b[39;00m \u001b[39mEOFError\u001b[39;00m(\u001b[39m\"\u001b[39m\u001b[39mCompressed file ended before the \u001b[39m\u001b[39m\"\u001b[39m\n\u001b[1;32m    519\u001b[0m                        \u001b[39m\"\u001b[39m\u001b[39mend-of-stream marker was reached\u001b[39m\u001b[39m\"\u001b[39m)\n\u001b[1;32m    521\u001b[0m \u001b[39mself\u001b[39m\u001b[39m.\u001b[39m_add_read_data( uncompress )\n\u001b[1;32m    522\u001b[0m \u001b[39mself\u001b[39m\u001b[39m.\u001b[39m_pos \u001b[39m+\u001b[39m\u001b[39m=\u001b[39m \u001b[39mlen\u001b[39m(uncompress)\n",
      "\u001b[0;31mEOFError\u001b[0m: Compressed file ended before the end-of-stream marker was reached"
     ]
    }
   ],
   "source": [
    "# Run the scheduler\n",
    "GetSchedule(obspar)"
   ]
  },
  {
   "cell_type": "code",
   "execution_count": null,
   "metadata": {},
   "outputs": [],
   "source": []
  }
 ],
 "metadata": {
  "kernelspec": {
   "display_name": "Python 3.9.0 ('tilepyenv_1')",
   "language": "python",
   "name": "python3"
  },
  "language_info": {
   "codemirror_mode": {
    "name": "ipython",
    "version": 3
   },
   "file_extension": ".py",
   "mimetype": "text/x-python",
   "name": "python",
   "nbconvert_exporter": "python",
   "pygments_lexer": "ipython3",
   "version": "3.11.9"
  },
  "vscode": {
   "interpreter": {
    "hash": "27b68d8d765e3bcc7497bdaa8796e67fcbf6255f91f21a56387fb4d1cc5ead39"
   }
  }
 },
 "nbformat": 4,
 "nbformat_minor": 4
}
