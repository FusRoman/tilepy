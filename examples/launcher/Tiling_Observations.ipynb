{
 "cells": [
  {
   "cell_type": "code",
   "execution_count": 1,
   "metadata": {},
   "outputs": [
    {
     "name": "stderr",
     "output_type": "stream",
     "text": [
      "/Users/md274436/software/miniforge3/envs/tilepy/lib/python3.11/site-packages/ligo/lw/lsctables.py:89: UserWarning: Wswiglal-redir-stdio:\n",
      "\n",
      "SWIGLAL standard output/error redirection is enabled in IPython.\n",
      "This may lead to performance penalties. To disable locally, use:\n",
      "\n",
      "with lal.no_swig_redirect_standard_output_error():\n",
      "    ...\n",
      "\n",
      "To disable globally, use:\n",
      "\n",
      "lal.swig_redirect_standard_output_error(False)\n",
      "\n",
      "Note however that this will likely lead to error messages from\n",
      "LAL functions being either misdirected or lost when called from\n",
      "Jupyter notebooks.\n",
      "\n",
      "To suppress this warning, use:\n",
      "\n",
      "import warnings\n",
      "warnings.filterwarnings(\"ignore\", \"Wswiglal-redir-stdio\")\n",
      "import lal\n",
      "\n",
      "  import lal\n",
      "/Users/md274436/software/miniforge3/envs/tilepy/lib/python3.11/site-packages/tqdm/auto.py:21: TqdmWarning: IProgress not found. Please update jupyter and ipywidgets. See https://ipywidgets.readthedocs.io/en/stable/user_install.html\n",
      "  from .autonotebook import tqdm as notebook_tqdm\n"
     ]
    }
   ],
   "source": [
    "# Import main packages \n",
    "from tilepy.include.ObservationScheduler import GetSchedule\n",
    "from tilepy.include.PointingTools import ObservationParameters, NextWindowTools, getdate\n",
    "import time\n",
    "import argparse\n",
    "import os\n",
    "from pathlib import Path\n"
   ]
  },
  {
   "cell_type": "code",
   "execution_count": 2,
   "metadata": {},
   "outputs": [],
   "source": [
    "from IPython.core.interactiveshell import InteractiveShell\n",
    "InteractiveShell.ast_node_interactivity = \"all\""
   ]
  },
  {
   "attachments": {},
   "cell_type": "markdown",
   "metadata": {},
   "source": [
    "### Set of inputs needed to run the code"
   ]
  },
  {
   "cell_type": "code",
   "execution_count": 3,
   "metadata": {},
   "outputs": [],
   "source": [
    "# Type of followup, options: gbm, gbmpng or gw\n",
    "alertType = 'gw'\n",
    "\n",
    "# The url to the FITS file with the sky localization, e.g.for GW https://urlpath/Bayestar.fits.gz'\n",
    "# You can use https://gracedb.ligo.org/api/superevents/MS230802n/files/bayestar.multiorder.fits,0\n",
    "#skymap =  'https://gracedb.ligo.org/api/superevents/S231206cc/files/bayestar.multiorder.fits,1'\n",
    "#skymap = 'https://gracedb.ligo.org/api/superevents/S240413p/files/bayestar.multiorder.fits,1'\n",
    "#skymap = 'https://dcc.ligo.org/public/0119/P1500071/007/927563_lalinference.fits.gz'\n",
    "skymap = 'https://gracedb.ligo.org/api/superevents/S240915b/files/bayestar.multiorder.fits,1'\n",
    "\n",
    "# Date and time of the event in format YYYY-MM-DD HH:MM:SS. You can use 2023-07-15 14:30:10 for the example .fits file\n",
    "#obsTime = getdate(\"2023-12-06  23:39:01\")\n",
    "#obsTime = getdate(\"2024-04-13  02:33:01\")\n",
    "obsTime = getdate(\"2024-09-15 00:15:14\")\n",
    "\n",
    "# Path to the input datasets (where galaxy cat should be for GW case)\n",
    "datasetDir = '../../tilepy/dataset/'\n",
    "\n",
    "# Path to the output folder\n",
    "outDir = './output'\n",
    "\n",
    "# Config file for the tiling scheduling\n",
    "cfgFile = '../config/FollowupParameters_LST.ini'\n",
    "#cfgFile = '../../../../Gitlab/lst_tiling/config/FollowupParameters_1_BBH.ini'\n",
    "\n",
    "# Galaxy catalog name (if no catalog is given, the approach will be 2D). Path to th file is defined in datasetDir variable\n",
    "galcatName = 'Gladeplus.h5'\n",
    "\n",
    "# Tiles already observed\n",
    "# pointingsFile = None\n",
    "pointingsFile = '/Users/mseglar/GitHub/tilepy/examples/launcher/output/S240915b/PGinFoV/SuggestedPointings_2DProbOptimisation.txt'\n"
   ]
  },
  {
   "cell_type": "code",
   "execution_count": 4,
   "metadata": {},
   "outputs": [],
   "source": [
    "# Create forder for output\n",
    "if not os.path.exists(outDir):\n",
    "    os.makedirs(outDir)"
   ]
  },
  {
   "cell_type": "code",
   "execution_count": 5,
   "metadata": {},
   "outputs": [],
   "source": [
    "#Parse the parameters \n",
    "obspar = ObservationParameters()\n",
    "obspar.add_parsed_args(skymap,obsTime,datasetDir,galcatName,outDir,pointingsFile,alertType)\n",
    "obspar.from_configfile(cfgFile)"
   ]
  },
  {
   "cell_type": "code",
   "execution_count": 6,
   "metadata": {},
   "outputs": [
    {
     "data": {
      "text/plain": [
       "'LST'"
      ]
     },
     "execution_count": 6,
     "metadata": {},
     "output_type": "execute_result"
    }
   ],
   "source": [
    "obspar.name"
   ]
  },
  {
   "attachments": {},
   "cell_type": "markdown",
   "metadata": {},
   "source": [
    "### Run the scheduling"
   ]
  },
  {
   "cell_type": "code",
   "execution_count": 7,
   "metadata": {},
   "outputs": [
    {
     "name": "stderr",
     "output_type": "stream",
     "text": [
      "The file is already existing, it will be re-downloaded\n"
     ]
    },
    {
     "name": "stdout",
     "output_type": "stream",
     "text": [
      "===========================================================================================\n",
      "===========================================================================================\n",
      "Starting the 2D pointing calculation with the following parameters\n",
      "\n",
      "Filename:  G511909\n",
      "Date:  2024-09-15 00:15:14\n",
      "Previous pointings:  /Users/mseglar/GitHub/tilepy/examples/launcher/output/S240915b/PGinFoV/SuggestedPointings_2DProbOptimisation.txt\n",
      "Dataset:  ../../tilepy/dataset/\n",
      "Output:  ./output/G511909\n",
      "===========================================================================================\n",
      "\n",
      "============== Main parsed observation parameters ==============  \n",
      "Observatory Name: LST\n",
      "Observatory: 28.761944 deg\n",
      "Observatory: -17.89 deg\n",
      "Observatory: 2200.0 m\n",
      "Max zenith: 70\n",
      "Using Greytime is: False\n",
      "FOV: 2.5\n",
      "Max runs: 4\n",
      "Duration: 20\n",
      "High Resolution NSIDE: 512\n",
      "Low Resolution NSIDE: 256\n",
      "The strategy is (3D, None, mangrove=False)\n",
      "The level of details is (doPlot=True, doRank = True)\n",
      "\n",
      "\n",
      "-------------------   NEW EVENT   --------------------\n",
      "\n",
      "Subtracting pointings from /Users/mseglar/GitHub/tilepy/examples/launcher/output/S240915b/PGinFoV/SuggestedPointings_2DProbOptimisation.txt\n"
     ]
    },
    {
     "ename": "FileNotFoundError",
     "evalue": "/Users/mseglar/GitHub/tilepy/examples/launcher/output/S240915b/PGinFoV/SuggestedPointings_2DProbOptimisation.txt not found.",
     "output_type": "error",
     "traceback": [
      "\u001b[0;31m---------------------------------------------------------------------------\u001b[0m",
      "\u001b[0;31mFileNotFoundError\u001b[0m                         Traceback (most recent call last)",
      "Cell \u001b[0;32mIn[7], line 2\u001b[0m\n\u001b[1;32m      1\u001b[0m \u001b[38;5;66;03m# Run the scheduler\u001b[39;00m\n\u001b[0;32m----> 2\u001b[0m \u001b[43mGetSchedule\u001b[49m\u001b[43m(\u001b[49m\u001b[43mobspar\u001b[49m\u001b[43m)\u001b[49m\n",
      "File \u001b[0;32m~/post_doc_cea/GW/tilepy_test/src/tilepy/include/ObservationScheduler.py:115\u001b[0m, in \u001b[0;36mGetSchedule\u001b[0;34m(obspar)\u001b[0m\n\u001b[1;32m    112\u001b[0m \u001b[38;5;28mprint\u001b[39m(\u001b[38;5;124m\"\u001b[39m\u001b[38;5;124m===========================================================================================\u001b[39m\u001b[38;5;124m\"\u001b[39m)\n\u001b[1;32m    113\u001b[0m \u001b[38;5;28mprint\u001b[39m()\n\u001b[0;32m--> 115\u001b[0m SuggestedPointings, t0 \u001b[38;5;241m=\u001b[39m \u001b[43mPGWinFoV\u001b[49m\u001b[43m(\u001b[49m\u001b[43mskymap\u001b[49m\u001b[43m,\u001b[49m\u001b[43m \u001b[49m\u001b[43mraw_map\u001b[49m\u001b[38;5;241;43m.\u001b[39;49m\u001b[43mname_event\u001b[49m\u001b[43m,\u001b[49m\u001b[43m \u001b[49m\u001b[43mobspar\u001b[49m\u001b[43m,\u001b[49m\u001b[43m \u001b[49m\u001b[43mdirName\u001b[49m\u001b[43m)\u001b[49m\n\u001b[1;32m    117\u001b[0m \u001b[38;5;28;01mif\u001b[39;00m (\u001b[38;5;28mlen\u001b[39m(SuggestedPointings) \u001b[38;5;241m!=\u001b[39m \u001b[38;5;241m0\u001b[39m):\n\u001b[1;32m    118\u001b[0m     gal \u001b[38;5;241m=\u001b[39m []\n",
      "File \u001b[0;32m~/post_doc_cea/GW/tilepy_test/src/tilepy/include/TilingDetermination.py:120\u001b[0m, in \u001b[0;36mPGWinFoV\u001b[0;34m(skymap, eventName, obspar, dirName)\u001b[0m\n\u001b[1;32m    118\u001b[0m maxRuns \u001b[38;5;241m=\u001b[39m obspar\u001b[38;5;241m.\u001b[39mmaxRuns\n\u001b[1;32m    119\u001b[0m \u001b[38;5;28;01mif\u001b[39;00m (PointingFile \u001b[38;5;241m!=\u001b[39m \u001b[38;5;28;01mNone\u001b[39;00m):\n\u001b[0;32m--> 120\u001b[0m     pixlist, sumPGW, doneObs \u001b[38;5;241m=\u001b[39m \u001b[43mSubstractPointings2D\u001b[49m\u001b[43m(\u001b[49m\u001b[43mPointingFile\u001b[49m\u001b[43m,\u001b[49m\u001b[43m \u001b[49m\u001b[43mprob\u001b[49m\u001b[43m,\u001b[49m\u001b[43m \u001b[49m\u001b[43mobspar\u001b[49m\u001b[43m,\u001b[49m\u001b[43m \u001b[49m\u001b[43mpixlist\u001b[49m\u001b[43m)\u001b[49m\n\u001b[1;32m    122\u001b[0m     \u001b[38;5;28;01mif\u001b[39;00m obspar\u001b[38;5;241m.\u001b[39mcountPrevious:\n\u001b[1;32m    123\u001b[0m         maxRuns \u001b[38;5;241m=\u001b[39m obspar\u001b[38;5;241m.\u001b[39mmaxRuns \u001b[38;5;241m-\u001b[39m doneObs\n",
      "File \u001b[0;32m~/post_doc_cea/GW/tilepy_test/src/tilepy/include/PointingTools.py:1299\u001b[0m, in \u001b[0;36mSubstractPointings2D\u001b[0;34m(tpointingFile, prob, obspar, pixlist)\u001b[0m\n\u001b[1;32m   1296\u001b[0m radius \u001b[38;5;241m=\u001b[39m obspar\u001b[38;5;241m.\u001b[39mFOV\n\u001b[1;32m   1298\u001b[0m \u001b[38;5;28mprint\u001b[39m(\u001b[38;5;124m\"\u001b[39m\u001b[38;5;124mSubtracting pointings from \u001b[39m\u001b[38;5;124m\"\u001b[39m \u001b[38;5;241m+\u001b[39m tpointingFile)\n\u001b[0;32m-> 1299\u001b[0m ra, dec \u001b[38;5;241m=\u001b[39m \u001b[43mnp\u001b[49m\u001b[38;5;241;43m.\u001b[39;49m\u001b[43mgenfromtxt\u001b[49m\u001b[43m(\u001b[49m\u001b[43mtpointingFile\u001b[49m\u001b[43m,\u001b[49m\u001b[43m \u001b[49m\u001b[43musecols\u001b[49m\u001b[38;5;241;43m=\u001b[39;49m\u001b[43m(\u001b[49m\u001b[38;5;241;43m2\u001b[39;49m\u001b[43m,\u001b[49m\u001b[43m \u001b[49m\u001b[38;5;241;43m3\u001b[39;49m\u001b[43m)\u001b[49m\u001b[43m,\u001b[49m\u001b[43m \u001b[49m\u001b[43mdtype\u001b[49m\u001b[38;5;241;43m=\u001b[39;49m\u001b[38;5;124;43m\"\u001b[39;49m\u001b[38;5;124;43mstr\u001b[39;49m\u001b[38;5;124;43m\"\u001b[39;49m\u001b[43m,\u001b[49m\u001b[43m \u001b[49m\u001b[43mskip_header\u001b[49m\u001b[38;5;241;43m=\u001b[39;49m\u001b[38;5;241;43m1\u001b[39;49m\u001b[43m,\u001b[49m\n\u001b[1;32m   1300\u001b[0m \u001b[43m                        \u001b[49m\u001b[43mdelimiter\u001b[49m\u001b[38;5;241;43m=\u001b[39;49m\u001b[38;5;124;43m'\u001b[39;49m\u001b[38;5;124;43m \u001b[39;49m\u001b[38;5;124;43m'\u001b[39;49m\u001b[43m,\u001b[49m\n\u001b[1;32m   1301\u001b[0m \u001b[43m                        \u001b[49m\u001b[43munpack\u001b[49m\u001b[38;5;241;43m=\u001b[39;49m\u001b[38;5;28;43;01mTrue\u001b[39;49;00m\u001b[43m)\u001b[49m  \u001b[38;5;66;03m# ra, dec in degrees\u001b[39;00m\n\u001b[1;32m   1302\u001b[0m ra \u001b[38;5;241m=\u001b[39m np\u001b[38;5;241m.\u001b[39matleast_1d(ra)\n\u001b[1;32m   1303\u001b[0m dec \u001b[38;5;241m=\u001b[39m np\u001b[38;5;241m.\u001b[39matleast_1d(dec)\n",
      "File \u001b[0;32m~/software/miniforge3/envs/tilepy/lib/python3.11/site-packages/numpy/lib/npyio.py:1980\u001b[0m, in \u001b[0;36mgenfromtxt\u001b[0;34m(fname, dtype, comments, delimiter, skip_header, skip_footer, converters, missing_values, filling_values, usecols, names, excludelist, deletechars, replace_space, autostrip, case_sensitive, defaultfmt, unpack, usemask, loose, invalid_raise, max_rows, encoding, ndmin, like)\u001b[0m\n\u001b[1;32m   1978\u001b[0m     fname \u001b[38;5;241m=\u001b[39m os_fspath(fname)\n\u001b[1;32m   1979\u001b[0m \u001b[38;5;28;01mif\u001b[39;00m \u001b[38;5;28misinstance\u001b[39m(fname, \u001b[38;5;28mstr\u001b[39m):\n\u001b[0;32m-> 1980\u001b[0m     fid \u001b[38;5;241m=\u001b[39m \u001b[43mnp\u001b[49m\u001b[38;5;241;43m.\u001b[39;49m\u001b[43mlib\u001b[49m\u001b[38;5;241;43m.\u001b[39;49m\u001b[43m_datasource\u001b[49m\u001b[38;5;241;43m.\u001b[39;49m\u001b[43mopen\u001b[49m\u001b[43m(\u001b[49m\u001b[43mfname\u001b[49m\u001b[43m,\u001b[49m\u001b[43m \u001b[49m\u001b[38;5;124;43m'\u001b[39;49m\u001b[38;5;124;43mrt\u001b[39;49m\u001b[38;5;124;43m'\u001b[39;49m\u001b[43m,\u001b[49m\u001b[43m \u001b[49m\u001b[43mencoding\u001b[49m\u001b[38;5;241;43m=\u001b[39;49m\u001b[43mencoding\u001b[49m\u001b[43m)\u001b[49m\n\u001b[1;32m   1981\u001b[0m     fid_ctx \u001b[38;5;241m=\u001b[39m contextlib\u001b[38;5;241m.\u001b[39mclosing(fid)\n\u001b[1;32m   1982\u001b[0m \u001b[38;5;28;01melse\u001b[39;00m:\n",
      "File \u001b[0;32m~/software/miniforge3/envs/tilepy/lib/python3.11/site-packages/numpy/lib/_datasource.py:193\u001b[0m, in \u001b[0;36mopen\u001b[0;34m(path, mode, destpath, encoding, newline)\u001b[0m\n\u001b[1;32m    156\u001b[0m \u001b[38;5;250m\u001b[39m\u001b[38;5;124;03m\"\"\"\u001b[39;00m\n\u001b[1;32m    157\u001b[0m \u001b[38;5;124;03mOpen `path` with `mode` and return the file object.\u001b[39;00m\n\u001b[1;32m    158\u001b[0m \n\u001b[0;32m   (...)\u001b[0m\n\u001b[1;32m    189\u001b[0m \n\u001b[1;32m    190\u001b[0m \u001b[38;5;124;03m\"\"\"\u001b[39;00m\n\u001b[1;32m    192\u001b[0m ds \u001b[38;5;241m=\u001b[39m DataSource(destpath)\n\u001b[0;32m--> 193\u001b[0m \u001b[38;5;28;01mreturn\u001b[39;00m \u001b[43mds\u001b[49m\u001b[38;5;241;43m.\u001b[39;49m\u001b[43mopen\u001b[49m\u001b[43m(\u001b[49m\u001b[43mpath\u001b[49m\u001b[43m,\u001b[49m\u001b[43m \u001b[49m\u001b[43mmode\u001b[49m\u001b[43m,\u001b[49m\u001b[43m \u001b[49m\u001b[43mencoding\u001b[49m\u001b[38;5;241;43m=\u001b[39;49m\u001b[43mencoding\u001b[49m\u001b[43m,\u001b[49m\u001b[43m \u001b[49m\u001b[43mnewline\u001b[49m\u001b[38;5;241;43m=\u001b[39;49m\u001b[43mnewline\u001b[49m\u001b[43m)\u001b[49m\n",
      "File \u001b[0;32m~/software/miniforge3/envs/tilepy/lib/python3.11/site-packages/numpy/lib/_datasource.py:533\u001b[0m, in \u001b[0;36mDataSource.open\u001b[0;34m(self, path, mode, encoding, newline)\u001b[0m\n\u001b[1;32m    530\u001b[0m     \u001b[38;5;28;01mreturn\u001b[39;00m _file_openers[ext](found, mode\u001b[38;5;241m=\u001b[39mmode,\n\u001b[1;32m    531\u001b[0m                               encoding\u001b[38;5;241m=\u001b[39mencoding, newline\u001b[38;5;241m=\u001b[39mnewline)\n\u001b[1;32m    532\u001b[0m \u001b[38;5;28;01melse\u001b[39;00m:\n\u001b[0;32m--> 533\u001b[0m     \u001b[38;5;28;01mraise\u001b[39;00m \u001b[38;5;167;01mFileNotFoundError\u001b[39;00m(\u001b[38;5;124mf\u001b[39m\u001b[38;5;124m\"\u001b[39m\u001b[38;5;132;01m{\u001b[39;00mpath\u001b[38;5;132;01m}\u001b[39;00m\u001b[38;5;124m not found.\u001b[39m\u001b[38;5;124m\"\u001b[39m)\n",
      "\u001b[0;31mFileNotFoundError\u001b[0m: /Users/mseglar/GitHub/tilepy/examples/launcher/output/S240915b/PGinFoV/SuggestedPointings_2DProbOptimisation.txt not found."
     ]
    }
   ],
   "source": [
    "# Run the scheduler\n",
    "GetSchedule(obspar)"
   ]
  },
  {
   "cell_type": "code",
   "execution_count": null,
   "metadata": {},
   "outputs": [],
   "source": []
  }
 ],
 "metadata": {
  "kernelspec": {
   "display_name": "Python 3 (ipykernel)",
   "language": "python",
   "name": "python3"
  },
  "language_info": {
   "codemirror_mode": {
    "name": "ipython",
    "version": 3
   },
   "file_extension": ".py",
   "mimetype": "text/x-python",
   "name": "python",
   "nbconvert_exporter": "python",
   "pygments_lexer": "ipython3",
   "version": "3.11.10"
  },
  "vscode": {
   "interpreter": {
    "hash": "27b68d8d765e3bcc7497bdaa8796e67fcbf6255f91f21a56387fb4d1cc5ead39"
   }
  }
 },
 "nbformat": 4,
 "nbformat_minor": 4
}
