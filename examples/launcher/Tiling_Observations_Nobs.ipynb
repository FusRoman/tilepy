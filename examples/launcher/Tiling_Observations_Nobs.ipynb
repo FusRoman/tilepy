{
 "cells": [
  {
   "cell_type": "code",
   "execution_count": 1,
   "id": "cfb68f4e-6d80-4b7c-b7b3-85ef3ebd82d7",
   "metadata": {},
   "outputs": [
    {
     "name": "stderr",
     "output_type": "stream",
     "text": [
      "/Users/md274436/software/miniforge3/envs/tilepy/lib/python3.11/site-packages/ligo/lw/lsctables.py:89: UserWarning: Wswiglal-redir-stdio:\n",
      "\n",
      "SWIGLAL standard output/error redirection is enabled in IPython.\n",
      "This may lead to performance penalties. To disable locally, use:\n",
      "\n",
      "with lal.no_swig_redirect_standard_output_error():\n",
      "    ...\n",
      "\n",
      "To disable globally, use:\n",
      "\n",
      "lal.swig_redirect_standard_output_error(False)\n",
      "\n",
      "Note however that this will likely lead to error messages from\n",
      "LAL functions being either misdirected or lost when called from\n",
      "Jupyter notebooks.\n",
      "\n",
      "To suppress this warning, use:\n",
      "\n",
      "import warnings\n",
      "warnings.filterwarnings(\"ignore\", \"Wswiglal-redir-stdio\")\n",
      "import lal\n",
      "\n",
      "  import lal\n",
      "/Users/md274436/software/miniforge3/envs/tilepy/lib/python3.11/site-packages/tqdm/auto.py:21: TqdmWarning: IProgress not found. Please update jupyter and ipywidgets. See https://ipywidgets.readthedocs.io/en/stable/user_install.html\n",
      "  from .autonotebook import tqdm as notebook_tqdm\n"
     ]
    }
   ],
   "source": [
    "from tilepy.include.ObservationScheduler import GetUniversalSchedule\n",
    "from tilepy.include.PointingTools import ObservationParameters, NextWindowTools, getdate\n",
    "import time\n",
    "import argparse\n",
    "import os\n"
   ]
  },
  {
   "cell_type": "code",
   "execution_count": 2,
   "id": "8879b037-7d01-41b7-9e57-68488159878b",
   "metadata": {},
   "outputs": [],
   "source": [
    "# Type of followup, options: gbm, gbmpng or gw\n",
    "alertType = 'gw'\n",
    "\n",
    "# The url to the FITS file with the sky localization, e.g.for GW https://urlpath/Bayestar.fits.gz'\n",
    "skymap = 'https://gracedb.ligo.org/api/superevents/S190728q/files/GW190728_064510_PublicationSamples_flattened.fits.gz,0'\n",
    "\n",
    "# Date and time of the event in format YYYY-MM-DD HH:MM:SS. You can use 2023-07-15 14:30:10 for the example .fits file\n",
    "obsTime = getdate(\"2023-07-27 08:30:10\")\n",
    "\n",
    "# Path to the input datasets (where galaxy cat should be for GW case)\n",
    "datasetDir = '../../dataset/'\n",
    "\n",
    "# Path to the output folder\n",
    "outDir = './output'\n",
    "\n",
    "# Config file for the tiling scheduling\n",
    "#cfgFile = '../obsConfig/FollowupParameters.ini'\n",
    "\n",
    "# Galaxy catalog name (if no catalog is given, the approach will be 2D) only. Path is given in datasetDir \n",
    "galcatName = \"../../tilepy/dataset/Gladeplus.h5\"\n",
    "\n",
    "# Tiles already observed\n",
    "pointingsFile = None\n",
    "\n",
    "# Limit on skyloc to perform a followup\n",
    "locCut = None"
   ]
  },
  {
   "cell_type": "code",
   "execution_count": 3,
   "id": "2ed6a64c-f98c-4c2d-9edf-cd1d38360f5e",
   "metadata": {},
   "outputs": [],
   "source": [
    "ObsArray = ['HESS', 'LST']\n",
    "parameters = []"
   ]
  },
  {
   "cell_type": "code",
   "execution_count": 4,
   "id": "3a0d2a96-9e20-4688-b14a-6f425af2dd0f",
   "metadata": {},
   "outputs": [
    {
     "name": "stdout",
     "output_type": "stream",
     "text": [
      "===========================================================================================\n",
      "parameters ['../config/FollowupParameters_HESS.ini', '../config/FollowupParameters_LST.ini']\n"
     ]
    }
   ],
   "source": [
    "# Config file for the tiling scheduling\n",
    "for i in ObsArray:\n",
    "    parameters.append(\"../config/FollowupParameters_%s.ini\" % i)\n",
    "print(\"===========================================================================================\")\n",
    "print('parameters', parameters)\n",
    "obsparameters = []"
   ]
  },
  {
   "cell_type": "code",
   "execution_count": 5,
   "id": "aa929f64-da3a-4180-a159-8ea231e8ccbb",
   "metadata": {},
   "outputs": [],
   "source": [
    "for j in range(len(parameters)):\n",
    "    obspar = ObservationParameters()\n",
    "    obspar.add_parsed_args(skymap, obsTime, datasetDir, galcatName, outDir, pointingsFile, alertType, locCut)\n",
    "    obspar.from_configfile(parameters[j])\n",
    "    obsparameters.append(obspar)"
   ]
  },
  {
   "cell_type": "code",
   "execution_count": 6,
   "id": "9fd228c9-9758-4397-8841-7af1f50d6bb1",
   "metadata": {},
   "outputs": [
    {
     "name": "stderr",
     "output_type": "stream",
     "text": [
      "The file is already existing, it will be re-downloaded\n"
     ]
    },
    {
     "name": "stdout",
     "output_type": "stream",
     "text": [
      "pix-1\n",
      "1 / pix\n",
      "False\n"
     ]
    },
    {
     "ename": "AttributeError",
     "evalue": "'list' object has no attribute 'distCut'",
     "output_type": "error",
     "traceback": [
      "\u001b[0;31m---------------------------------------------------------------------------\u001b[0m",
      "\u001b[0;31mAttributeError\u001b[0m                            Traceback (most recent call last)",
      "Cell \u001b[0;32mIn[6], line 1\u001b[0m\n\u001b[0;32m----> 1\u001b[0m \u001b[43mGetUniversalSchedule\u001b[49m\u001b[43m(\u001b[49m\u001b[43mobsparameters\u001b[49m\u001b[43m)\u001b[49m\n",
      "File \u001b[0;32m~/post_doc_cea/GW/tilepy_test/tilepy/include/ObservationScheduler.py:140\u001b[0m, in \u001b[0;36mGetUniversalSchedule\u001b[0;34m(obspar)\u001b[0m\n\u001b[1;32m    131\u001b[0m \u001b[38;5;250m\u001b[39m\u001b[38;5;124;03m'''\u001b[39;00m\n\u001b[1;32m    132\u001b[0m \u001b[38;5;124;03mTop level function that is called by the user with specific arguments and creates a folder \u001b[39;00m\n\u001b[1;32m    133\u001b[0m \u001b[38;5;124;03mwith the tiling schedules for multiple telescopes/observartories and visibility plots.  \u001b[39;00m\n\u001b[0;32m   (...)\u001b[0m\n\u001b[1;32m    136\u001b[0m \u001b[38;5;124;03m:type obsparameters: list of class ObservationParameters\u001b[39;00m\n\u001b[1;32m    137\u001b[0m \u001b[38;5;124;03m'''\u001b[39;00m\n\u001b[1;32m    139\u001b[0m raw_map \u001b[38;5;241m=\u001b[39m MapReader(obspar[\u001b[38;5;241m0\u001b[39m])\n\u001b[0;32m--> 140\u001b[0m skymap \u001b[38;5;241m=\u001b[39m \u001b[43mSkyMap\u001b[49m\u001b[43m(\u001b[49m\u001b[43mobspar\u001b[49m\u001b[43m,\u001b[49m\u001b[43m \u001b[49m\u001b[43mraw_map\u001b[49m\u001b[43m)\u001b[49m\n\u001b[1;32m    142\u001b[0m \u001b[38;5;28mprint\u001b[39m(\u001b[38;5;124m\"\u001b[39m\u001b[38;5;124m===========================================================================================\u001b[39m\u001b[38;5;124m\"\u001b[39m)\n\u001b[1;32m    143\u001b[0m ObservationTime \u001b[38;5;241m=\u001b[39m obspar[\u001b[38;5;241m0\u001b[39m]\u001b[38;5;241m.\u001b[39mobsTime\n",
      "File \u001b[0;32m~/post_doc_cea/GW/tilepy_test/tilepy/include/MapManagement/SkyMap.py:29\u001b[0m, in \u001b[0;36mSkyMap.__init__\u001b[0;34m(self, obspar, mapReader)\u001b[0m\n\u001b[1;32m     27\u001b[0m \u001b[38;5;28;01mdef\u001b[39;00m \u001b[38;5;21m__init__\u001b[39m(\u001b[38;5;28mself\u001b[39m, obspar, mapReader):\n\u001b[1;32m     28\u001b[0m     \u001b[38;5;28mself\u001b[39m\u001b[38;5;241m.\u001b[39mraw_map_prob_density \u001b[38;5;241m=\u001b[39m mapReader\u001b[38;5;241m.\u001b[39mgetMap(\u001b[38;5;124m'\u001b[39m\u001b[38;5;124mprob\u001b[39m\u001b[38;5;124m'\u001b[39m)\n\u001b[0;32m---> 29\u001b[0m     \u001b[38;5;28mself\u001b[39m\u001b[38;5;241m.\u001b[39mis3D \u001b[38;5;241m=\u001b[39m \u001b[38;5;28;43mself\u001b[39;49m\u001b[38;5;241;43m.\u001b[39;49m\u001b[43mdetermine3D\u001b[49m\u001b[43m(\u001b[49m\u001b[43mobspar\u001b[49m\u001b[43m,\u001b[49m\u001b[43m \u001b[49m\u001b[43mmapReader\u001b[49m\u001b[43m)\u001b[49m\n\u001b[1;32m     31\u001b[0m     \u001b[38;5;28;01mif\u001b[39;00m \u001b[38;5;28mself\u001b[39m\u001b[38;5;241m.\u001b[39mis3D:\n\u001b[1;32m     32\u001b[0m         \u001b[38;5;28mself\u001b[39m\u001b[38;5;241m.\u001b[39mraw_map_dist_mean \u001b[38;5;241m=\u001b[39m mapReader\u001b[38;5;241m.\u001b[39mgetMap(\u001b[38;5;124m'\u001b[39m\u001b[38;5;124mdistMean\u001b[39m\u001b[38;5;124m'\u001b[39m)\n",
      "File \u001b[0;32m~/post_doc_cea/GW/tilepy_test/tilepy/include/MapManagement/SkyMap.py:44\u001b[0m, in \u001b[0;36mSkyMap.determine3D\u001b[0;34m(self, obspar, mapReader)\u001b[0m\n\u001b[1;32m     42\u001b[0m \u001b[38;5;28;01mif\u001b[39;00m mapReader\u001b[38;5;241m.\u001b[39mhas3D:\n\u001b[1;32m     43\u001b[0m     dist_mean, dist_std \u001b[38;5;241m=\u001b[39m mapReader\u001b[38;5;241m.\u001b[39mgetDistance()\n\u001b[0;32m---> 44\u001b[0m     \u001b[38;5;28;01mif\u001b[39;00m dist_mean \u001b[38;5;241m+\u001b[39m \u001b[38;5;241m2\u001b[39m \u001b[38;5;241m*\u001b[39m dist_std \u001b[38;5;241m>\u001b[39m \u001b[43mobspar\u001b[49m\u001b[38;5;241;43m.\u001b[39;49m\u001b[43mdistCut\u001b[49m:\n\u001b[1;32m     45\u001b[0m         is3D \u001b[38;5;241m=\u001b[39m \u001b[38;5;28;01mFalse\u001b[39;00m\n\u001b[1;32m     47\u001b[0m     pix_maximum \u001b[38;5;241m=\u001b[39m np\u001b[38;5;241m.\u001b[39margmax(\u001b[38;5;28mself\u001b[39m\u001b[38;5;241m.\u001b[39mraw_map_prob_density\u001b[38;5;241m.\u001b[39mdata)\n",
      "\u001b[0;31mAttributeError\u001b[0m: 'list' object has no attribute 'distCut'"
     ]
    }
   ],
   "source": [
    "GetUniversalSchedule(obsparameters)"
   ]
  },
  {
   "cell_type": "code",
   "execution_count": null,
   "id": "9c5ea7cf-7963-4dfd-b626-0509a799e20e",
   "metadata": {},
   "outputs": [],
   "source": []
  }
 ],
 "metadata": {
  "kernelspec": {
   "display_name": "Python 3 (ipykernel)",
   "language": "python",
   "name": "python3"
  },
  "language_info": {
   "codemirror_mode": {
    "name": "ipython",
    "version": 3
   },
   "file_extension": ".py",
   "mimetype": "text/x-python",
   "name": "python",
   "nbconvert_exporter": "python",
   "pygments_lexer": "ipython3",
   "version": "3.11.10"
  },
  "vscode": {
   "interpreter": {
    "hash": "27b68d8d765e3bcc7497bdaa8796e67fcbf6255f91f21a56387fb4d1cc5ead39"
   }
  }
 },
 "nbformat": 4,
 "nbformat_minor": 5
}
