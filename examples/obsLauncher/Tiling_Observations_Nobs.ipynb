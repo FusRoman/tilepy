{
 "cells": [
  {
   "cell_type": "code",
   "execution_count": 3,
   "id": "cfb68f4e-6d80-4b7c-b7b3-85ef3ebd82d7",
   "metadata": {},
   "outputs": [],
   "source": [
    "from tilepy.include.ObservationScheduler import getdate, GetUniversalSchedule\n",
    "from tilepy.include.PointingTools import ObservationParameters, NextWindowTools\n",
    "import time\n",
    "import argparse\n",
    "import os\n"
   ]
  },
  {
   "cell_type": "code",
   "execution_count": 4,
   "id": "8879b037-7d01-41b7-9e57-68488159878b",
   "metadata": {},
   "outputs": [],
   "source": [
    "# Type of followup, options: gbm, gbmpng or gw\n",
    "alertType = 'gw'\n",
    "\n",
    "# The url to the FITS file with the sky localization, e.g.for GW https://urlpath/Bayestar.fits.gz'\n",
    "url = 'https://gracedb.ligo.org/api/superevents/S190814bv/files/LALInference.v1.fits.gz'\n",
    "\n",
    "# Date and time of the event in format YYYY-MM-DD HH:MM:SS. You can use 2023-07-15 14:30:10 for the example .fits file\n",
    "obsTime = getdate(\"2023-10-12 00:30:10\")\n",
    "\n",
    "# Path to the input datasets (where galaxy cat should be for GW case)\n",
    "datasetDir = '../../dataset/'\n",
    "\n",
    "# Path to the output folder\n",
    "outDir = './output'\n",
    "\n",
    "# Config file for the tiling scheduling\n",
    "#cfgFile = '../obsConfig/FollowupParameters.ini'\n",
    "\n",
    "# Galaxy catalog name (if no catalog is given, the approach will be 2D) only. Path is given in datasetDir \n",
    "galcatName = \"converted_GLADE.h5\"\n",
    "\n",
    "# Tiles already observed\n",
    "pointingsFile = None\n",
    "\n",
    "# Limit on skyloc to perform a followup\n",
    "locCut = None"
   ]
  },
  {
   "cell_type": "code",
   "execution_count": 5,
   "id": "2ed6a64c-f98c-4c2d-9edf-cd1d38360f5e",
   "metadata": {},
   "outputs": [],
   "source": [
    "ObsArray = ['HESS', 'LST']\n",
    "parameters = []"
   ]
  },
  {
   "cell_type": "code",
   "execution_count": 6,
   "id": "3a0d2a96-9e20-4688-b14a-6f425af2dd0f",
   "metadata": {},
   "outputs": [
    {
     "name": "stdout",
     "output_type": "stream",
     "text": [
      "===========================================================================================\n",
      "parameters ['../obsConfig/FollowupParameters_HESS.ini', '../obsConfig/FollowupParameters_LST.ini']\n"
     ]
    }
   ],
   "source": [
    "# Config file for the tiling scheduling\n",
    "for i in ObsArray:\n",
    "    parameters.append(\"../obsConfig/FollowupParameters_%s.ini\" % i)\n",
    "print(\"===========================================================================================\")\n",
    "print('parameters', parameters)\n",
    "obsparameters = []"
   ]
  },
  {
   "cell_type": "code",
   "execution_count": 7,
   "id": "aa929f64-da3a-4180-a159-8ea231e8ccbb",
   "metadata": {},
   "outputs": [],
   "source": [
    "for j in range(len(parameters)):\n",
    "    obspar = ObservationParameters()\n",
    "    obspar.add_parsed_args(url, obsTime, datasetDir, galcatName, outDir, pointingsFile, alertType, locCut)\n",
    "    obspar.from_configfile(parameters[j])\n",
    "    obsparameters.append(obspar)"
   ]
  },
  {
   "cell_type": "code",
   "execution_count": 8,
   "id": "9fd228c9-9758-4397-8841-7af1f50d6bb1",
   "metadata": {},
   "outputs": [
    {
     "name": "stdout",
     "output_type": "stream",
     "text": [
      "https://gracedb.ligo.org/api/superevents/S190814bv/files/LALInference.v1.fits.gz\n",
      "The filename is  LALInference.v1.fits.gz\n",
      "curl https://gracedb.ligo.org/api/superevents/S190814bv/files/LALInference.v1.fits.gz -o LALInference.v1.fits.gz\n"
     ]
    },
    {
     "name": "stderr",
     "output_type": "stream",
     "text": [
      "  % Total    % Received % Xferd  Average Speed   Time    Time     Time  Current\n",
      "                                 Dload  Upload   Total   Spent    Left  Speed\n",
      "100 1498k  100 1498k    0     0   443k      0  0:00:03  0:00:03 --:--:--  443k\n"
     ]
    },
    {
     "name": "stdout",
     "output_type": "stream",
     "text": [
      "Is the hotspot in the galactic plane? False\n",
      "===========================================================================================\n",
      "===========================================================================================\n",
      "Starting the 3D pointing calculation with the following parameters\n",
      "\n",
      "Filename:  S190814bv\n",
      "Date:  2023-10-12 00:30:10\n",
      "Catalog:  converted_GLADE.h5\n",
      "Dataset:  ../../dataset/\n",
      "Output:  ./output/S190814bv\n",
      "===========================================================================================\n",
      "\n",
      "obsparameters 2\n",
      "Loading map from  LALInference.v1.fits.gz\n",
      "Loading LVC HEALPix map from file: LALInference.v1.fits.gz\n",
      "Event has triggered  Non specified  => distance = 267.40  +- 51.59  Mpc\n",
      "Loading galaxy catalogue from ../../dataset/converted_GLADE.h5\n"
     ]
    }
   ],
   "source": [
    "GetUniversalSchedule(obsparameters)"
   ]
  },
  {
   "cell_type": "code",
   "execution_count": null,
   "id": "30c66a2f",
   "metadata": {},
   "outputs": [],
   "source": []
  }
 ],
 "metadata": {
  "kernelspec": {
   "display_name": "Python 3.11.8 ('tilepy_venv': venv)",
   "language": "python",
   "name": "python3"
  },
  "language_info": {
   "codemirror_mode": {
    "name": "ipython",
    "version": 3
   },
   "file_extension": ".py",
   "mimetype": "text/x-python",
   "name": "python",
   "nbconvert_exporter": "python",
   "pygments_lexer": "ipython3",
   "version": "3.11.8"
  },
  "vscode": {
   "interpreter": {
    "hash": "6e4fb91bbbdb686ea8ba21e0775fe42576ef427ad556665de01f101d0ccae856"
   }
  }
 },
 "nbformat": 4,
 "nbformat_minor": 5
}
