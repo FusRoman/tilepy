{
 "cells": [
  {
   "cell_type": "code",
   "execution_count": 1,
   "id": "8879b037-7d01-41b7-9e57-68488159878b",
   "metadata": {},
   "outputs": [
    {
     "name": "stderr",
     "output_type": "stream",
     "text": [
      "/opt/miniconda3/envs/tilepyenv_1/lib/python3.9/site-packages/tqdm/auto.py:21: TqdmWarning: IProgress not found. Please update jupyter and ipywidgets. See https://ipywidgets.readthedocs.io/en/stable/user_install.html\n",
      "  from .autonotebook import tqdm as notebook_tqdm\n"
     ]
    }
   ],
   "source": [
    "from tilepy.tools.VisualizationTools import Pretty_Plot, LocateSource\n",
    "from tilepy.include.ObservationScheduler import getdate\n",
    "from astropy.coordinates import SkyCoord\n",
    "from astropy import units as u\n",
    "from tilepy.include.PointingTools import (LoadHealpixMap, LoadGalaxies, CorrelateGalaxies_LVC, ObservationParameters)\n",
    "import numpy as np\n"
   ]
  },
  {
   "attachments": {},
   "cell_type": "markdown",
   "id": "28e57160",
   "metadata": {},
   "source": [
    "Adjust the following as desired"
   ]
  },
  {
   "cell_type": "code",
   "execution_count": 2,
   "id": "c4230808",
   "metadata": {},
   "outputs": [],
   "source": [
    "#adjust the following as desired\n",
    "alertType = 'gw'\n",
    "configDir = '../obsConfig/'\n",
    "datasetDir = '../../tilepy/dataset/'\n",
    "outDir = '../obsCases/paperPlots/'\n",
    "galcatName = \"Gladeplus.h5\"\n",
    "pointingsFile = None\n",
    "locCut = 500"
   ]
  },
  {
   "attachments": {},
   "cell_type": "markdown",
   "id": "955ac857",
   "metadata": {},
   "source": [
    "Choose one"
   ]
  },
  {
   "cell_type": "code",
   "execution_count": 3,
   "id": "1bf5fe41",
   "metadata": {},
   "outputs": [],
   "source": [
    "url = 'https://dcc.ligo.org/public/0119/P1500071/007/927563_lalinference.fits.gz'\n",
    "obsTime = getdate(\"2023-03-15 20:51:47\")\n",
    "ObsArray = ['CTAN', 'CTAS']\n",
    "colors_list = ['blue', 'green']\n",
    "\n",
    "name = '927563_lalinference_CTAO'\n",
    "PointingsFile1 = '../obsExamples/927563_lalinference_PAPER/PGalinFoV_NObs/SuggestedPointings_GWOptimisation.txt'\n",
    "dirName = '../obsExamples/paperPlots'\n",
    "\n",
    "center = SkyCoord(195, 15, unit='deg', frame='icrs')\n",
    "radius = '20 deg'"
   ]
  },
  {
   "cell_type": "code",
   "execution_count": 31,
   "id": "10e2800e",
   "metadata": {},
   "outputs": [],
   "source": [
    "url = 'https://gracedb.ligo.org/api/superevents/S190814bv/files/LALInference.v1.fits.gz'\n",
    "obsTime = getdate(\"2023-09-15 01:30:10\")\n",
    "ObsArray = ['ESO', 'ESO2', 'LP','LPL', 'OHP', 'SA', 'HA']\n",
    "colors_list = ['k','grey','g','b','c','m','r']\n",
    "\n",
    "name = 'S190814bv_MWL'\n",
    "PointingsFile1 = '../obsExamples/S190814bv_PAPER/PGalinFoV_NObs/SuggestedPointings_GWOptimisation.txt'\n",
    "dirName = '../obsExamples/paperPlots'\n",
    "\n",
    "center = SkyCoord(12, -25, unit='deg', frame='icrs')\n",
    "radius = '5 deg'"
   ]
  },
  {
   "cell_type": "code",
   "execution_count": 15,
   "id": "45d15864",
   "metadata": {},
   "outputs": [],
   "source": [
    "url = 'https://heasarc.gsfc.nasa.gov/FTP/fermi/data/gbm/triggers/2023/bn231012231/quicklook/glg_healpix_all_bn231012231.fit'\n",
    "obsTime = getdate(\"2023-10-12 20:42:18\")\n",
    "ObsArray = ['LST1', 'LST2','LST3','LST4']\n",
    "colors_list = ['g','b','C4','cyan']\n",
    "\n",
    "name = 'GRB231012A_PWG'\n",
    "PointingsFile1 = '../obsExamples/bn231012231_PAPER/PGWinFoV_NObs/SuggestedPointings_GWOptimisation.txt'\n",
    "dirName = '../obsExamples/paperPlots'\n",
    "\n",
    "center = SkyCoord(30, 20, unit='deg', frame='icrs')\n",
    "radius = '20 deg'"
   ]
  },
  {
   "cell_type": "code",
   "execution_count": 23,
   "id": "24e4221e",
   "metadata": {},
   "outputs": [],
   "source": [
    "url = 'https://www.ioffe.ru/LEA/ShortGRBs_IPN/data/20120612T59382/GRB20120612_T59382_IPN_map_hpx.fits.gz'\n",
    "obsTime = getdate(\"2017-08-17 10:30:10\")\n",
    "ObsArray = ['ATCA']\n",
    "colors_list = ['k']\n",
    "\n",
    "name = 'IPN_PWG'\n",
    "PointingsFile1 = '../obsExamples/IPN_GRB20120612_PAPER/PGWinFoV_NObs/SuggestedPointings_GWOptimisation.txt'\n",
    "dirName = '../obsExamples/paperPlots'\n",
    "\n",
    "center = None\n",
    "radius = '3 deg'"
   ]
  },
  {
   "cell_type": "code",
   "execution_count": 4,
   "id": "91c7eb1e",
   "metadata": {},
   "outputs": [
    {
     "name": "stdout",
     "output_type": "stream",
     "text": [
      "===========================================================================================\n",
      "parameters ['../obsConfig/FollowupParameters_CTAN.ini', '../obsConfig/FollowupParameters_CTAS.ini']\n"
     ]
    }
   ],
   "source": [
    "parameters = []\n",
    "obsparameters = []\n",
    "\n",
    "\n",
    "for i in ObsArray:\n",
    "    parameters.append(\"../obsConfig/FollowupParameters_%s.ini\" % i)\n",
    "print(\"===========================================================================================\")\n",
    "print('parameters', parameters)\n",
    "obsparameters = []"
   ]
  },
  {
   "cell_type": "code",
   "execution_count": 5,
   "id": "85be930a",
   "metadata": {},
   "outputs": [
    {
     "name": "stdout",
     "output_type": "stream",
     "text": [
      "============== Main parsed observation parameters ==============  \n",
      "Observatory Name: CTAO-S\n",
      "Observatory: -24.5 deg\n",
      "Observatory: -70.17 deg\n",
      "Observatory: 2635.0 m\n",
      "Max zenith: 60\n",
      "Using Greytime is: True\n",
      "FOV: 4.0\n",
      "Max runs: 20\n",
      "Duration: 20\n",
      "High Resolution NSIDE: 512\n",
      "Low Resolution NSIDE: 128\n",
      "The strategy is (3D, integrated, mangrove=False)\n",
      "The level of details is (doPlot=True, doRank = True)\n",
      "\n"
     ]
    }
   ],
   "source": [
    "for j in range(len(parameters)):\n",
    "    obspar = ObservationParameters()\n",
    "    obspar.add_parsed_args(url, obsTime, datasetDir, galcatName, outDir, pointingsFile, alertType, locCut)\n",
    "    obspar.from_configfile(parameters[j])\n",
    "    obsparameters.append(obspar)\n",
    "print(obspar)"
   ]
  },
  {
   "attachments": {},
   "cell_type": "markdown",
   "id": "3612e155",
   "metadata": {},
   "source": [
    "ONLY for 3D cases"
   ]
  },
  {
   "cell_type": "code",
   "execution_count": 6,
   "id": "aa929f64-da3a-4180-a159-8ea231e8ccbb",
   "metadata": {},
   "outputs": [
    {
     "name": "stdout",
     "output_type": "stream",
     "text": [
      "Loading galaxy catalogue from ../../tilepy/dataset/Gladeplus.h5\n",
      "Loading LVC HEALPix map from file: https://dcc.ligo.org/public/0119/P1500071/007/927563_lalinference.fits.gz\n",
      "Event has triggered  Non specified  => distance = 89.66  +- 19.29  Mpc\n"
     ]
    }
   ],
   "source": [
    "galaxies = obspar.datasetDir + obspar.galcatName\n",
    "\n",
    "\n",
    "cat = LoadGalaxies(galaxies)\n",
    "prob, distmu, distsigma, distnorm, detectors, fits_id, thisDistance, thisDistanceErr = LoadHealpixMap(url)\n",
    "tGals0, sum_dP_dV = CorrelateGalaxies_LVC(prob, distmu, distsigma, distnorm, cat, True, obspar.minimumProbCutForCatalogue)\n"
   ]
  },
  {
   "attachments": {},
   "cell_type": "markdown",
   "id": "c724b145",
   "metadata": {},
   "source": [
    "ONLY for 2D cases"
   ]
  },
  {
   "cell_type": "code",
   "execution_count": 26,
   "id": "144a9907",
   "metadata": {},
   "outputs": [],
   "source": [
    "tGals0 = None"
   ]
  },
  {
   "cell_type": "code",
   "execution_count": 7,
   "id": "67b354da",
   "metadata": {},
   "outputs": [
    {
     "name": "stdout",
     "output_type": "stream",
     "text": [
      "WE HAVE GALAXIES TO PLOT\n"
     ]
    }
   ],
   "source": [
    "Pretty_Plot(url, name, PointingsFile1, dirName, obspar, tGals0, center, radius, colors_list)\n",
    "\n"
   ]
  },
  {
   "attachments": {},
   "cell_type": "markdown",
   "id": "63ea2996",
   "metadata": {},
   "source": []
  }
 ],
 "metadata": {
  "kernelspec": {
   "display_name": "Python 3.9.0 ('tilepyenv_1')",
   "language": "python",
   "name": "python3"
  },
  "language_info": {
   "codemirror_mode": {
    "name": "ipython",
    "version": 3
   },
   "file_extension": ".py",
   "mimetype": "text/x-python",
   "name": "python",
   "nbconvert_exporter": "python",
   "pygments_lexer": "ipython3",
   "version": "3.9.0"
  },
  "vscode": {
   "interpreter": {
    "hash": "27b68d8d765e3bcc7497bdaa8796e67fcbf6255f91f21a56387fb4d1cc5ead39"
   }
  }
 },
 "nbformat": 4,
 "nbformat_minor": 5
}
